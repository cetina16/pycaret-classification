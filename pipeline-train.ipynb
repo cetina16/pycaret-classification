{
 "cells": [
  {
   "cell_type": "code",
   "execution_count": 2,
   "id": "55d5f78c",
   "metadata": {},
   "outputs": [],
   "source": [
    "import pycaret\n",
    "import sklearn\n",
    "import pandas as pd\n",
    "import numpy as np\n",
    "import seaborn as sns\n",
    "import matplotlib.pyplot as plt"
   ]
  },
  {
   "cell_type": "code",
   "execution_count": 3,
   "id": "c9b4ae87",
   "metadata": {},
   "outputs": [],
   "source": [
    "datatype = {\"country\": object,\n",
    "            \"industry_claim\": object,  \n",
    "            \"industry_other\":  object, \n",
    "            \"industry_reno\": object, \n",
    "            \"industry_surveys\": object,\n",
    "            \"industry_surveys\":  object,\n",
    "            \"marketing_intent\": object,\n",
    "            \"marketing_team\": object, \n",
    "            \"marketing_use_case\": object,\n",
    "            \"first_device_lidar\": object,\n",
    "            \"agg_first_room_create_method\": object,\n",
    "            #\"converted\": object\n",
    "           }"
   ]
  },
  {
   "cell_type": "code",
   "execution_count": 4,
   "id": "db0280c1",
   "metadata": {},
   "outputs": [],
   "source": [
    "df = pd.read_csv('train-0906.csv',dtype=datatype)"
   ]
  },
  {
   "cell_type": "code",
   "execution_count": 5,
   "id": "1d0c8975",
   "metadata": {},
   "outputs": [
    {
     "name": "stdout",
     "output_type": "stream",
     "text": [
      "<class 'pandas.core.frame.DataFrame'>\n",
      "RangeIndex: 125131 entries, 0 to 125130\n",
      "Data columns (total 34 columns):\n",
      " #   Column                                  Non-Null Count   Dtype \n",
      "---  ------                                  --------------   ----- \n",
      " 0   user_id                                 125131 non-null  object\n",
      " 1   country                                 125126 non-null  object\n",
      " 2   sign_up_os                              125131 non-null  object\n",
      " 3   marketing_use_case                      70514 non-null   object\n",
      " 4   marketing_intent                        70526 non-null   object\n",
      " 5   industry_claim                          125131 non-null  object\n",
      " 6   industry_other                          125131 non-null  object\n",
      " 7   industry_reno                           125131 non-null  object\n",
      " 8   industry_surveys                        125131 non-null  object\n",
      " 9   marketing_team                          125131 non-null  object\n",
      " 10  sign_up_time                            125131 non-null  object\n",
      " 11  first_device_model                      117112 non-null  object\n",
      " 12  first_device_type                       117112 non-null  object\n",
      " 13  first_device_lidar                      125119 non-null  object\n",
      " 14  converted                               125131 non-null  int64 \n",
      " 15  first_project_time_ios                  87391 non-null   object\n",
      " 16  first_room_time_ios                     71363 non-null   object\n",
      " 17  first_photo_add_time_ios                28831 non-null   object\n",
      " 18  first_project_publishing_succeeded_ios  289 non-null     object\n",
      " 19  first_three_d_view_clicked_ios          57949 non-null   object\n",
      " 20  first_floor_creation_succeeded_ios      66852 non-null   object\n",
      " 21  first_project_sharing_succeeded_ios     1885 non-null    object\n",
      " 22  first_camera_time_ios                   41649 non-null   object\n",
      " 23  first_square_time_ios                   52165 non-null   object\n",
      " 24  first_corners_time_ios                  33550 non-null   object\n",
      " 25  first_export_time_ios                   11045 non-null   object\n",
      " 26  application_opened_ios                  125131 non-null  int64 \n",
      " 27  application_updated_ios                 125131 non-null  int64 \n",
      " 28  project_created_ios                     125131 non-null  int64 \n",
      " 29  room_creation_succeeded_ios             125131 non-null  int64 \n",
      " 30  room_method_corners_ios                 125131 non-null  int64 \n",
      " 31  room_method_camera_ios                  125131 non-null  int64 \n",
      " 32  room_method_square_ios                  125131 non-null  int64 \n",
      " 33  project_export_succeeded_ios            125131 non-null  int64 \n",
      "dtypes: int64(9), object(25)\n",
      "memory usage: 32.5+ MB\n"
     ]
    }
   ],
   "source": [
    "df.info()"
   ]
  },
  {
   "cell_type": "code",
   "execution_count": 6,
   "id": "adf304d6",
   "metadata": {},
   "outputs": [
    {
     "data": {
      "text/plain": [
       "'2022-04-01 00:19:58.928 UTC'"
      ]
     },
     "execution_count": 6,
     "metadata": {},
     "output_type": "execute_result"
    }
   ],
   "source": [
    "df.sign_up_time.min()"
   ]
  },
  {
   "cell_type": "code",
   "execution_count": 7,
   "id": "3c78155b",
   "metadata": {},
   "outputs": [
    {
     "data": {
      "text/plain": [
       "'2023-06-09 08:54:20.241 UTC'"
      ]
     },
     "execution_count": 7,
     "metadata": {},
     "output_type": "execute_result"
    }
   ],
   "source": [
    "df.sign_up_time.max()"
   ]
  },
  {
   "cell_type": "code",
   "execution_count": 9,
   "id": "ca1e0148",
   "metadata": {},
   "outputs": [],
   "source": [
    "# compare these three values for each user: first_camera_time, first_square_time, first_corners_time\n",
    "# categories: camera, square, corners, no_creation\n",
    "def conditions(df):\n",
    "    if ((df['first_camera_time_ios'] is not pd.NaT) and (df['first_camera_time_ios'] <= df['first_corners_time_ios'] or (df['first_corners_time_ios'] is pd.NaT)) and (df['first_camera_time_ios'] <= df['first_square_time_ios'] or (df['first_square_time_ios'] is pd.NaT))) :\n",
    "        return 'camera'\n",
    "    elif ((df['first_square_time_ios'] is not pd.NaT) and (df['first_square_time_ios'] <= df['first_corners_time_ios'] or (df['first_corners_time_ios'] is pd.NaT)) and (df['first_square_time_ios'] <= df['first_camera_time_ios'] or (df['first_camera_time_ios'] is pd.NaT) )):\n",
    "        return 'square'\n",
    "    elif ((df['first_corners_time_ios'] is not pd.NaT) and (df['first_corners_time_ios'] <= df['first_camera_time_ios'] or (df['first_camera_time_ios'] is pd.NaT)) and (df['first_corners_time_ios'] <= df['first_square_time_ios']  or (df['first_square_time_ios'] is pd.NaT))):\n",
    "        return 'corners'\n",
    "    else:\n",
    "        return 'no_creation'"
   ]
  },
  {
   "cell_type": "code",
   "execution_count": 10,
   "id": "4d1be71f",
   "metadata": {},
   "outputs": [],
   "source": [
    "# this preprocess function is written for test data\n",
    "# we need to create new features also from raw test data \n",
    "\n",
    "def preprocess(df_raw):\n",
    "    df = df_raw.copy()\n",
    "    df['application_opened_ios'] = df['application_opened_ios']+1\n",
    "    \n",
    "    df['sign_up_time'] = pd.to_datetime(df['sign_up_time'], errors='coerce')\n",
    "    df['first_project_time_ios'] = pd.to_datetime(df['first_project_time_ios'], errors='coerce')\n",
    "    df['first_room_time_ios'] = pd.to_datetime(df['first_room_time_ios'], errors='coerce')\n",
    "    df['first_camera_time_ios'] = pd.to_datetime(df['first_camera_time_ios'], errors='coerce')\n",
    "    df['first_square_time_ios'] = pd.to_datetime(df['first_square_time_ios'], errors='coerce')\n",
    "    df['first_corners_time_ios'] = pd.to_datetime(df['first_corners_time_ios'], errors='coerce')\n",
    "    df['first_export_time_ios'] = pd.to_datetime(df['first_export_time_ios'], errors='coerce')\n",
    "    \n",
    "    # calculate the difference between that action timestamp and sign_up timestamp\n",
    "    # create aggreagated time features: (minutes)\n",
    "    agg_names = ['first_project_time_diff','first_room_time_diff','first_camera_time_diff',\n",
    "                 'first_square_time_diff','first_corners_time_diff','first_export_time_diff']\n",
    "    cols = ['first_project_time_ios','first_room_time_ios','first_camera_time_ios','first_square_time_ios',\n",
    "            'first_corners_time_ios','first_export_time_ios' ]\n",
    "  \n",
    "    for i in range (len(agg_names)):\n",
    "        df[agg_names[i]] = (df[cols[i]] - df['sign_up_time']).dt.total_seconds() / 60\n",
    "        df.loc[df[agg_names[i]] < 0, agg_names[i]] = np.nan\n",
    "\n",
    "    # create another feature: \n",
    "    # conditions defined in another function\n",
    "    df['agg_first_room_create_method'] = df.apply(conditions, axis=1)\n",
    "    \n",
    "    # create another feature:\n",
    "    # get the time difference between first_project_time and first_room_time  (minutes)\n",
    "    # to know how long it takes the user to create a room after it figures out how to create a project \n",
    "    df['diff_first_project_room'] = (df['first_room_time_ios'] - df['first_project_time_ios']).dt.total_seconds()/ 60\n",
    "    df.loc[df['diff_first_project_room'] < 0, 'diff_first_project_room'] = np.nan\n",
    "\n",
    "    # drop unnessary columns\n",
    "    drop_features= ['sign_up_os','sign_up_time','first_project_time_ios','first_room_time_ios',\n",
    "                    'first_camera_time_ios','first_square_time_ios','first_corners_time_ios','first_export_time_ios']\n",
    "    \n",
    "    df.drop(columns=drop_features , inplace = True)\n",
    "    \n",
    "    return df"
   ]
  },
  {
   "cell_type": "code",
   "execution_count": 8,
   "id": "152af640",
   "metadata": {},
   "outputs": [
    {
     "data": {
      "text/plain": [
       "0    122299\n",
       "1      2832\n",
       "Name: converted, dtype: int64"
      ]
     },
     "execution_count": 8,
     "metadata": {},
     "output_type": "execute_result"
    }
   ],
   "source": [
    "df.converted.value_counts()"
   ]
  },
  {
   "cell_type": "code",
   "execution_count": 11,
   "id": "7533dc0a",
   "metadata": {},
   "outputs": [],
   "source": [
    "df_p = preprocess(df)"
   ]
  },
  {
   "cell_type": "code",
   "execution_count": 12,
   "id": "c4cdf231",
   "metadata": {},
   "outputs": [
    {
     "name": "stdout",
     "output_type": "stream",
     "text": [
      "<class 'pandas.core.frame.DataFrame'>\n",
      "RangeIndex: 125131 entries, 0 to 125130\n",
      "Data columns (total 34 columns):\n",
      " #   Column                                  Non-Null Count   Dtype  \n",
      "---  ------                                  --------------   -----  \n",
      " 0   user_id                                 125131 non-null  object \n",
      " 1   country                                 125126 non-null  object \n",
      " 2   marketing_use_case                      70514 non-null   object \n",
      " 3   marketing_intent                        70526 non-null   object \n",
      " 4   industry_claim                          125131 non-null  object \n",
      " 5   industry_other                          125131 non-null  object \n",
      " 6   industry_reno                           125131 non-null  object \n",
      " 7   industry_surveys                        125131 non-null  object \n",
      " 8   marketing_team                          125131 non-null  object \n",
      " 9   first_device_model                      117112 non-null  object \n",
      " 10  first_device_type                       117112 non-null  object \n",
      " 11  first_device_lidar                      125119 non-null  object \n",
      " 12  converted                               125131 non-null  int64  \n",
      " 13  first_photo_add_time_ios                28831 non-null   object \n",
      " 14  first_project_publishing_succeeded_ios  289 non-null     object \n",
      " 15  first_three_d_view_clicked_ios          57949 non-null   object \n",
      " 16  first_floor_creation_succeeded_ios      66852 non-null   object \n",
      " 17  first_project_sharing_succeeded_ios     1885 non-null    object \n",
      " 18  application_opened_ios                  125131 non-null  int64  \n",
      " 19  application_updated_ios                 125131 non-null  int64  \n",
      " 20  project_created_ios                     125131 non-null  int64  \n",
      " 21  room_creation_succeeded_ios             125131 non-null  int64  \n",
      " 22  room_method_corners_ios                 125131 non-null  int64  \n",
      " 23  room_method_camera_ios                  125131 non-null  int64  \n",
      " 24  room_method_square_ios                  125131 non-null  int64  \n",
      " 25  project_export_succeeded_ios            125131 non-null  int64  \n",
      " 26  first_project_time_diff                 87391 non-null   float64\n",
      " 27  first_room_time_diff                    71363 non-null   float64\n",
      " 28  first_camera_time_diff                  41649 non-null   float64\n",
      " 29  first_square_time_diff                  52165 non-null   float64\n",
      " 30  first_corners_time_diff                 33550 non-null   float64\n",
      " 31  first_export_time_diff                  11045 non-null   float64\n",
      " 32  agg_first_room_create_method            125131 non-null  object \n",
      " 33  diff_first_project_room                 60440 non-null   float64\n",
      "dtypes: float64(7), int64(9), object(18)\n",
      "memory usage: 32.5+ MB\n"
     ]
    }
   ],
   "source": [
    "df_p.info()"
   ]
  },
  {
   "cell_type": "code",
   "execution_count": 13,
   "id": "e9f79775",
   "metadata": {},
   "outputs": [],
   "source": [
    "df_p = df_p[['user_id','converted',\"first_project_time_diff\",\"first_room_time_diff\",\n",
    "                \"first_camera_time_diff\",\"first_square_time_diff\",\"first_corners_time_diff\",\n",
    "                \"first_export_time_diff\",\"application_opened_ios\",\"application_updated_ios\",\n",
    "                \"project_created_ios\",\"room_creation_succeeded_ios\",\"room_method_corners_ios\",\n",
    "                \"room_method_camera_ios\",\"room_method_square_ios\",\"project_export_succeeded_ios\",\n",
    "                \"diff_first_project_room\",\"marketing_use_case\",\"marketing_intent\",\"industry_claim\",\"industry_other\",\n",
    "                \"industry_reno\",\"industry_surveys\",\"marketing_team\",\"first_device_type\",\"first_device_lidar\",\n",
    "                \"agg_first_room_create_method\",'country','first_device_model']]"
   ]
  },
  {
   "cell_type": "code",
   "execution_count": 14,
   "id": "e1bd38dd",
   "metadata": {},
   "outputs": [],
   "source": [
    "num_features = [\"first_project_time_diff\",\"first_room_time_diff\",\n",
    "                \"first_camera_time_diff\",\"first_square_time_diff\",\"first_corners_time_diff\",\n",
    "                \"first_export_time_diff\",\"application_opened_ios\",\"application_updated_ios\",\n",
    "                \"project_created_ios\",\"room_creation_succeeded_ios\",\"room_method_corners_ios\",\n",
    "                \"room_method_camera_ios\",\"room_method_square_ios\",\"project_export_succeeded_ios\",\n",
    "                \"diff_first_project_room\"]\n",
    "cat_features = [\"marketing_use_case\",\"marketing_intent\",\"industry_claim\",\"industry_other\",\n",
    "                \"industry_reno\",\"industry_surveys\",\"marketing_team\",\"first_device_type\",\"first_device_lidar\",\n",
    "                \"agg_first_room_create_method\"]"
   ]
  },
  {
   "cell_type": "markdown",
   "id": "c1776a83",
   "metadata": {},
   "source": [
    "# Classification"
   ]
  },
  {
   "cell_type": "code",
   "execution_count": 15,
   "id": "0d4ab94d",
   "metadata": {},
   "outputs": [],
   "source": [
    "# Random Undersampling \n",
    "df_1 = df_p.loc[df_p['converted'] == 1].reset_index()\n",
    "df_0 = df_p.loc[df_p['converted'] == 0].reset_index()\n",
    "df_1 = df_1.drop('index', axis=1)\n",
    "df_0 = df_0.drop('index', axis=1)"
   ]
  },
  {
   "cell_type": "code",
   "execution_count": 16,
   "id": "fcf2f892",
   "metadata": {},
   "outputs": [
    {
     "name": "stdout",
     "output_type": "stream",
     "text": [
      "122299 - 2832\n"
     ]
    }
   ],
   "source": [
    "class_count_0, class_count_1 = df_p['converted'].value_counts()\n",
    "print(class_count_0,\"-\", class_count_1)"
   ]
  },
  {
   "cell_type": "code",
   "execution_count": 17,
   "id": "f7962404",
   "metadata": {},
   "outputs": [
    {
     "data": {
      "text/plain": [
       "(2832, 29)"
      ]
     },
     "execution_count": 17,
     "metadata": {},
     "output_type": "execute_result"
    }
   ],
   "source": [
    "df_1.shape"
   ]
  },
  {
   "cell_type": "code",
   "execution_count": 18,
   "id": "39ff9394",
   "metadata": {},
   "outputs": [],
   "source": [
    "df_0_sampled = df_0.sample(class_count_1)"
   ]
  },
  {
   "cell_type": "code",
   "execution_count": 19,
   "id": "caacfa59",
   "metadata": {},
   "outputs": [],
   "source": [
    "df_balanced = pd.concat([df_1, df_0_sampled], ignore_index=True, sort=False)"
   ]
  },
  {
   "cell_type": "code",
   "execution_count": 20,
   "id": "88cd5bd5",
   "metadata": {},
   "outputs": [
    {
     "name": "stdout",
     "output_type": "stream",
     "text": [
      "<class 'pandas.core.frame.DataFrame'>\n",
      "RangeIndex: 5664 entries, 0 to 5663\n",
      "Data columns (total 29 columns):\n",
      " #   Column                        Non-Null Count  Dtype  \n",
      "---  ------                        --------------  -----  \n",
      " 0   user_id                       5664 non-null   object \n",
      " 1   converted                     5664 non-null   int64  \n",
      " 2   first_project_time_diff       3051 non-null   float64\n",
      " 3   first_room_time_diff          2670 non-null   float64\n",
      " 4   first_camera_time_diff        1611 non-null   float64\n",
      " 5   first_square_time_diff        1939 non-null   float64\n",
      " 6   first_corners_time_diff       1265 non-null   float64\n",
      " 7   first_export_time_diff        591 non-null    float64\n",
      " 8   application_opened_ios        5664 non-null   int64  \n",
      " 9   application_updated_ios       5664 non-null   int64  \n",
      " 10  project_created_ios           5664 non-null   int64  \n",
      " 11  room_creation_succeeded_ios   5664 non-null   int64  \n",
      " 12  room_method_corners_ios       5664 non-null   int64  \n",
      " 13  room_method_camera_ios        5664 non-null   int64  \n",
      " 14  room_method_square_ios        5664 non-null   int64  \n",
      " 15  project_export_succeeded_ios  5664 non-null   int64  \n",
      " 16  diff_first_project_room       2199 non-null   float64\n",
      " 17  marketing_use_case            3713 non-null   object \n",
      " 18  marketing_intent              3713 non-null   object \n",
      " 19  industry_claim                5664 non-null   object \n",
      " 20  industry_other                5664 non-null   object \n",
      " 21  industry_reno                 5664 non-null   object \n",
      " 22  industry_surveys              5664 non-null   object \n",
      " 23  marketing_team                5664 non-null   object \n",
      " 24  first_device_type             5424 non-null   object \n",
      " 25  first_device_lidar            5663 non-null   object \n",
      " 26  agg_first_room_create_method  5664 non-null   object \n",
      " 27  country                       5664 non-null   object \n",
      " 28  first_device_model            5424 non-null   object \n",
      "dtypes: float64(7), int64(9), object(13)\n",
      "memory usage: 1.3+ MB\n"
     ]
    }
   ],
   "source": [
    "df_balanced.info()"
   ]
  },
  {
   "cell_type": "code",
   "execution_count": 35,
   "id": "e672c85b",
   "metadata": {},
   "outputs": [],
   "source": [
    "from sklearn.model_selection import train_test_split\n",
    "\n",
    "train, test = train_test_split(df_balanced, test_size=0.2)"
   ]
  },
  {
   "cell_type": "code",
   "execution_count": 36,
   "id": "f809dcc2",
   "metadata": {},
   "outputs": [
    {
     "name": "stdout",
     "output_type": "stream",
     "text": [
      "(4531, 29)\n",
      "(1133, 29)\n"
     ]
    }
   ],
   "source": [
    "print(train.shape)\n",
    "print(test.shape)"
   ]
  },
  {
   "cell_type": "code",
   "execution_count": 37,
   "id": "5c12021a",
   "metadata": {},
   "outputs": [
    {
     "data": {
      "text/html": [
       "<style type=\"text/css\">\n",
       "#T_6ad0e_row5_col1, #T_6ad0e_row9_col1, #T_6ad0e_row29_col1, #T_6ad0e_row36_col1, #T_6ad0e_row37_col1, #T_6ad0e_row40_col1, #T_6ad0e_row42_col1, #T_6ad0e_row44_col1, #T_6ad0e_row52_col1 {\n",
       "  background-color: lightgreen;\n",
       "}\n",
       "</style>\n",
       "<table id=\"T_6ad0e\">\n",
       "  <thead>\n",
       "    <tr>\n",
       "      <th class=\"blank level0\" >&nbsp;</th>\n",
       "      <th id=\"T_6ad0e_level0_col0\" class=\"col_heading level0 col0\" >Description</th>\n",
       "      <th id=\"T_6ad0e_level0_col1\" class=\"col_heading level0 col1\" >Value</th>\n",
       "    </tr>\n",
       "  </thead>\n",
       "  <tbody>\n",
       "    <tr>\n",
       "      <th id=\"T_6ad0e_level0_row0\" class=\"row_heading level0 row0\" >0</th>\n",
       "      <td id=\"T_6ad0e_row0_col0\" class=\"data row0 col0\" >session_id</td>\n",
       "      <td id=\"T_6ad0e_row0_col1\" class=\"data row0 col1\" >123</td>\n",
       "    </tr>\n",
       "    <tr>\n",
       "      <th id=\"T_6ad0e_level0_row1\" class=\"row_heading level0 row1\" >1</th>\n",
       "      <td id=\"T_6ad0e_row1_col0\" class=\"data row1 col0\" >Target</td>\n",
       "      <td id=\"T_6ad0e_row1_col1\" class=\"data row1 col1\" >converted</td>\n",
       "    </tr>\n",
       "    <tr>\n",
       "      <th id=\"T_6ad0e_level0_row2\" class=\"row_heading level0 row2\" >2</th>\n",
       "      <td id=\"T_6ad0e_row2_col0\" class=\"data row2 col0\" >Target Type</td>\n",
       "      <td id=\"T_6ad0e_row2_col1\" class=\"data row2 col1\" >Binary</td>\n",
       "    </tr>\n",
       "    <tr>\n",
       "      <th id=\"T_6ad0e_level0_row3\" class=\"row_heading level0 row3\" >3</th>\n",
       "      <td id=\"T_6ad0e_row3_col0\" class=\"data row3 col0\" >Label Encoded</td>\n",
       "      <td id=\"T_6ad0e_row3_col1\" class=\"data row3 col1\" >None</td>\n",
       "    </tr>\n",
       "    <tr>\n",
       "      <th id=\"T_6ad0e_level0_row4\" class=\"row_heading level0 row4\" >4</th>\n",
       "      <td id=\"T_6ad0e_row4_col0\" class=\"data row4 col0\" >Original Data</td>\n",
       "      <td id=\"T_6ad0e_row4_col1\" class=\"data row4 col1\" >(4531, 29)</td>\n",
       "    </tr>\n",
       "    <tr>\n",
       "      <th id=\"T_6ad0e_level0_row5\" class=\"row_heading level0 row5\" >5</th>\n",
       "      <td id=\"T_6ad0e_row5_col0\" class=\"data row5 col0\" >Missing Values</td>\n",
       "      <td id=\"T_6ad0e_row5_col1\" class=\"data row5 col1\" >True</td>\n",
       "    </tr>\n",
       "    <tr>\n",
       "      <th id=\"T_6ad0e_level0_row6\" class=\"row_heading level0 row6\" >6</th>\n",
       "      <td id=\"T_6ad0e_row6_col0\" class=\"data row6 col0\" >Numeric Features</td>\n",
       "      <td id=\"T_6ad0e_row6_col1\" class=\"data row6 col1\" >15</td>\n",
       "    </tr>\n",
       "    <tr>\n",
       "      <th id=\"T_6ad0e_level0_row7\" class=\"row_heading level0 row7\" >7</th>\n",
       "      <td id=\"T_6ad0e_row7_col0\" class=\"data row7 col0\" >Categorical Features</td>\n",
       "      <td id=\"T_6ad0e_row7_col1\" class=\"data row7 col1\" >12</td>\n",
       "    </tr>\n",
       "    <tr>\n",
       "      <th id=\"T_6ad0e_level0_row8\" class=\"row_heading level0 row8\" >8</th>\n",
       "      <td id=\"T_6ad0e_row8_col0\" class=\"data row8 col0\" >Ordinal Features</td>\n",
       "      <td id=\"T_6ad0e_row8_col1\" class=\"data row8 col1\" >False</td>\n",
       "    </tr>\n",
       "    <tr>\n",
       "      <th id=\"T_6ad0e_level0_row9\" class=\"row_heading level0 row9\" >9</th>\n",
       "      <td id=\"T_6ad0e_row9_col0\" class=\"data row9 col0\" >High Cardinality Features</td>\n",
       "      <td id=\"T_6ad0e_row9_col1\" class=\"data row9 col1\" >True</td>\n",
       "    </tr>\n",
       "    <tr>\n",
       "      <th id=\"T_6ad0e_level0_row10\" class=\"row_heading level0 row10\" >10</th>\n",
       "      <td id=\"T_6ad0e_row10_col0\" class=\"data row10 col0\" >High Cardinality Method</td>\n",
       "      <td id=\"T_6ad0e_row10_col1\" class=\"data row10 col1\" >frequency</td>\n",
       "    </tr>\n",
       "    <tr>\n",
       "      <th id=\"T_6ad0e_level0_row11\" class=\"row_heading level0 row11\" >11</th>\n",
       "      <td id=\"T_6ad0e_row11_col0\" class=\"data row11 col0\" >Transformed Train Set</td>\n",
       "      <td id=\"T_6ad0e_row11_col1\" class=\"data row11 col1\" >(3139, 34)</td>\n",
       "    </tr>\n",
       "    <tr>\n",
       "      <th id=\"T_6ad0e_level0_row12\" class=\"row_heading level0 row12\" >12</th>\n",
       "      <td id=\"T_6ad0e_row12_col0\" class=\"data row12 col0\" >Transformed Test Set</td>\n",
       "      <td id=\"T_6ad0e_row12_col1\" class=\"data row12 col1\" >(1360, 34)</td>\n",
       "    </tr>\n",
       "    <tr>\n",
       "      <th id=\"T_6ad0e_level0_row13\" class=\"row_heading level0 row13\" >13</th>\n",
       "      <td id=\"T_6ad0e_row13_col0\" class=\"data row13 col0\" >Shuffle Train-Test</td>\n",
       "      <td id=\"T_6ad0e_row13_col1\" class=\"data row13 col1\" >True</td>\n",
       "    </tr>\n",
       "    <tr>\n",
       "      <th id=\"T_6ad0e_level0_row14\" class=\"row_heading level0 row14\" >14</th>\n",
       "      <td id=\"T_6ad0e_row14_col0\" class=\"data row14 col0\" >Stratify Train-Test</td>\n",
       "      <td id=\"T_6ad0e_row14_col1\" class=\"data row14 col1\" >False</td>\n",
       "    </tr>\n",
       "    <tr>\n",
       "      <th id=\"T_6ad0e_level0_row15\" class=\"row_heading level0 row15\" >15</th>\n",
       "      <td id=\"T_6ad0e_row15_col0\" class=\"data row15 col0\" >Fold Generator</td>\n",
       "      <td id=\"T_6ad0e_row15_col1\" class=\"data row15 col1\" >StratifiedKFold</td>\n",
       "    </tr>\n",
       "    <tr>\n",
       "      <th id=\"T_6ad0e_level0_row16\" class=\"row_heading level0 row16\" >16</th>\n",
       "      <td id=\"T_6ad0e_row16_col0\" class=\"data row16 col0\" >Fold Number</td>\n",
       "      <td id=\"T_6ad0e_row16_col1\" class=\"data row16 col1\" >5</td>\n",
       "    </tr>\n",
       "    <tr>\n",
       "      <th id=\"T_6ad0e_level0_row17\" class=\"row_heading level0 row17\" >17</th>\n",
       "      <td id=\"T_6ad0e_row17_col0\" class=\"data row17 col0\" >CPU Jobs</td>\n",
       "      <td id=\"T_6ad0e_row17_col1\" class=\"data row17 col1\" >-1</td>\n",
       "    </tr>\n",
       "    <tr>\n",
       "      <th id=\"T_6ad0e_level0_row18\" class=\"row_heading level0 row18\" >18</th>\n",
       "      <td id=\"T_6ad0e_row18_col0\" class=\"data row18 col0\" >Use GPU</td>\n",
       "      <td id=\"T_6ad0e_row18_col1\" class=\"data row18 col1\" >False</td>\n",
       "    </tr>\n",
       "    <tr>\n",
       "      <th id=\"T_6ad0e_level0_row19\" class=\"row_heading level0 row19\" >19</th>\n",
       "      <td id=\"T_6ad0e_row19_col0\" class=\"data row19 col0\" >Log Experiment</td>\n",
       "      <td id=\"T_6ad0e_row19_col1\" class=\"data row19 col1\" >False</td>\n",
       "    </tr>\n",
       "    <tr>\n",
       "      <th id=\"T_6ad0e_level0_row20\" class=\"row_heading level0 row20\" >20</th>\n",
       "      <td id=\"T_6ad0e_row20_col0\" class=\"data row20 col0\" >Experiment Name</td>\n",
       "      <td id=\"T_6ad0e_row20_col1\" class=\"data row20 col1\" >clf-default-name</td>\n",
       "    </tr>\n",
       "    <tr>\n",
       "      <th id=\"T_6ad0e_level0_row21\" class=\"row_heading level0 row21\" >21</th>\n",
       "      <td id=\"T_6ad0e_row21_col0\" class=\"data row21 col0\" >USI</td>\n",
       "      <td id=\"T_6ad0e_row21_col1\" class=\"data row21 col1\" >90a4</td>\n",
       "    </tr>\n",
       "    <tr>\n",
       "      <th id=\"T_6ad0e_level0_row22\" class=\"row_heading level0 row22\" >22</th>\n",
       "      <td id=\"T_6ad0e_row22_col0\" class=\"data row22 col0\" >Imputation Type</td>\n",
       "      <td id=\"T_6ad0e_row22_col1\" class=\"data row22 col1\" >simple</td>\n",
       "    </tr>\n",
       "    <tr>\n",
       "      <th id=\"T_6ad0e_level0_row23\" class=\"row_heading level0 row23\" >23</th>\n",
       "      <td id=\"T_6ad0e_row23_col0\" class=\"data row23 col0\" >Iterative Imputation Iteration</td>\n",
       "      <td id=\"T_6ad0e_row23_col1\" class=\"data row23 col1\" >None</td>\n",
       "    </tr>\n",
       "    <tr>\n",
       "      <th id=\"T_6ad0e_level0_row24\" class=\"row_heading level0 row24\" >24</th>\n",
       "      <td id=\"T_6ad0e_row24_col0\" class=\"data row24 col0\" >Numeric Imputer</td>\n",
       "      <td id=\"T_6ad0e_row24_col1\" class=\"data row24 col1\" >mean</td>\n",
       "    </tr>\n",
       "    <tr>\n",
       "      <th id=\"T_6ad0e_level0_row25\" class=\"row_heading level0 row25\" >25</th>\n",
       "      <td id=\"T_6ad0e_row25_col0\" class=\"data row25 col0\" >Iterative Imputation Numeric Model</td>\n",
       "      <td id=\"T_6ad0e_row25_col1\" class=\"data row25 col1\" >None</td>\n",
       "    </tr>\n",
       "    <tr>\n",
       "      <th id=\"T_6ad0e_level0_row26\" class=\"row_heading level0 row26\" >26</th>\n",
       "      <td id=\"T_6ad0e_row26_col0\" class=\"data row26 col0\" >Categorical Imputer</td>\n",
       "      <td id=\"T_6ad0e_row26_col1\" class=\"data row26 col1\" >constant</td>\n",
       "    </tr>\n",
       "    <tr>\n",
       "      <th id=\"T_6ad0e_level0_row27\" class=\"row_heading level0 row27\" >27</th>\n",
       "      <td id=\"T_6ad0e_row27_col0\" class=\"data row27 col0\" >Iterative Imputation Categorical Model</td>\n",
       "      <td id=\"T_6ad0e_row27_col1\" class=\"data row27 col1\" >None</td>\n",
       "    </tr>\n",
       "    <tr>\n",
       "      <th id=\"T_6ad0e_level0_row28\" class=\"row_heading level0 row28\" >28</th>\n",
       "      <td id=\"T_6ad0e_row28_col0\" class=\"data row28 col0\" >Unknown Categoricals Handling</td>\n",
       "      <td id=\"T_6ad0e_row28_col1\" class=\"data row28 col1\" >least_frequent</td>\n",
       "    </tr>\n",
       "    <tr>\n",
       "      <th id=\"T_6ad0e_level0_row29\" class=\"row_heading level0 row29\" >29</th>\n",
       "      <td id=\"T_6ad0e_row29_col0\" class=\"data row29 col0\" >Normalize</td>\n",
       "      <td id=\"T_6ad0e_row29_col1\" class=\"data row29 col1\" >True</td>\n",
       "    </tr>\n",
       "    <tr>\n",
       "      <th id=\"T_6ad0e_level0_row30\" class=\"row_heading level0 row30\" >30</th>\n",
       "      <td id=\"T_6ad0e_row30_col0\" class=\"data row30 col0\" >Normalize Method</td>\n",
       "      <td id=\"T_6ad0e_row30_col1\" class=\"data row30 col1\" >robust</td>\n",
       "    </tr>\n",
       "    <tr>\n",
       "      <th id=\"T_6ad0e_level0_row31\" class=\"row_heading level0 row31\" >31</th>\n",
       "      <td id=\"T_6ad0e_row31_col0\" class=\"data row31 col0\" >Transformation</td>\n",
       "      <td id=\"T_6ad0e_row31_col1\" class=\"data row31 col1\" >False</td>\n",
       "    </tr>\n",
       "    <tr>\n",
       "      <th id=\"T_6ad0e_level0_row32\" class=\"row_heading level0 row32\" >32</th>\n",
       "      <td id=\"T_6ad0e_row32_col0\" class=\"data row32 col0\" >Transformation Method</td>\n",
       "      <td id=\"T_6ad0e_row32_col1\" class=\"data row32 col1\" >None</td>\n",
       "    </tr>\n",
       "    <tr>\n",
       "      <th id=\"T_6ad0e_level0_row33\" class=\"row_heading level0 row33\" >33</th>\n",
       "      <td id=\"T_6ad0e_row33_col0\" class=\"data row33 col0\" >PCA</td>\n",
       "      <td id=\"T_6ad0e_row33_col1\" class=\"data row33 col1\" >False</td>\n",
       "    </tr>\n",
       "    <tr>\n",
       "      <th id=\"T_6ad0e_level0_row34\" class=\"row_heading level0 row34\" >34</th>\n",
       "      <td id=\"T_6ad0e_row34_col0\" class=\"data row34 col0\" >PCA Method</td>\n",
       "      <td id=\"T_6ad0e_row34_col1\" class=\"data row34 col1\" >None</td>\n",
       "    </tr>\n",
       "    <tr>\n",
       "      <th id=\"T_6ad0e_level0_row35\" class=\"row_heading level0 row35\" >35</th>\n",
       "      <td id=\"T_6ad0e_row35_col0\" class=\"data row35 col0\" >PCA Components</td>\n",
       "      <td id=\"T_6ad0e_row35_col1\" class=\"data row35 col1\" >None</td>\n",
       "    </tr>\n",
       "    <tr>\n",
       "      <th id=\"T_6ad0e_level0_row36\" class=\"row_heading level0 row36\" >36</th>\n",
       "      <td id=\"T_6ad0e_row36_col0\" class=\"data row36 col0\" >Ignore Low Variance</td>\n",
       "      <td id=\"T_6ad0e_row36_col1\" class=\"data row36 col1\" >True</td>\n",
       "    </tr>\n",
       "    <tr>\n",
       "      <th id=\"T_6ad0e_level0_row37\" class=\"row_heading level0 row37\" >37</th>\n",
       "      <td id=\"T_6ad0e_row37_col0\" class=\"data row37 col0\" >Combine Rare Levels</td>\n",
       "      <td id=\"T_6ad0e_row37_col1\" class=\"data row37 col1\" >True</td>\n",
       "    </tr>\n",
       "    <tr>\n",
       "      <th id=\"T_6ad0e_level0_row38\" class=\"row_heading level0 row38\" >38</th>\n",
       "      <td id=\"T_6ad0e_row38_col0\" class=\"data row38 col0\" >Rare Level Threshold</td>\n",
       "      <td id=\"T_6ad0e_row38_col1\" class=\"data row38 col1\" >0.100000</td>\n",
       "    </tr>\n",
       "    <tr>\n",
       "      <th id=\"T_6ad0e_level0_row39\" class=\"row_heading level0 row39\" >39</th>\n",
       "      <td id=\"T_6ad0e_row39_col0\" class=\"data row39 col0\" >Numeric Binning</td>\n",
       "      <td id=\"T_6ad0e_row39_col1\" class=\"data row39 col1\" >False</td>\n",
       "    </tr>\n",
       "    <tr>\n",
       "      <th id=\"T_6ad0e_level0_row40\" class=\"row_heading level0 row40\" >40</th>\n",
       "      <td id=\"T_6ad0e_row40_col0\" class=\"data row40 col0\" >Remove Outliers</td>\n",
       "      <td id=\"T_6ad0e_row40_col1\" class=\"data row40 col1\" >True</td>\n",
       "    </tr>\n",
       "    <tr>\n",
       "      <th id=\"T_6ad0e_level0_row41\" class=\"row_heading level0 row41\" >41</th>\n",
       "      <td id=\"T_6ad0e_row41_col0\" class=\"data row41 col0\" >Outliers Threshold</td>\n",
       "      <td id=\"T_6ad0e_row41_col1\" class=\"data row41 col1\" >0.010000</td>\n",
       "    </tr>\n",
       "    <tr>\n",
       "      <th id=\"T_6ad0e_level0_row42\" class=\"row_heading level0 row42\" >42</th>\n",
       "      <td id=\"T_6ad0e_row42_col0\" class=\"data row42 col0\" >Remove Multicollinearity</td>\n",
       "      <td id=\"T_6ad0e_row42_col1\" class=\"data row42 col1\" >True</td>\n",
       "    </tr>\n",
       "    <tr>\n",
       "      <th id=\"T_6ad0e_level0_row43\" class=\"row_heading level0 row43\" >43</th>\n",
       "      <td id=\"T_6ad0e_row43_col0\" class=\"data row43 col0\" >Multicollinearity Threshold</td>\n",
       "      <td id=\"T_6ad0e_row43_col1\" class=\"data row43 col1\" >0.900000</td>\n",
       "    </tr>\n",
       "    <tr>\n",
       "      <th id=\"T_6ad0e_level0_row44\" class=\"row_heading level0 row44\" >44</th>\n",
       "      <td id=\"T_6ad0e_row44_col0\" class=\"data row44 col0\" >Remove Perfect Collinearity</td>\n",
       "      <td id=\"T_6ad0e_row44_col1\" class=\"data row44 col1\" >True</td>\n",
       "    </tr>\n",
       "    <tr>\n",
       "      <th id=\"T_6ad0e_level0_row45\" class=\"row_heading level0 row45\" >45</th>\n",
       "      <td id=\"T_6ad0e_row45_col0\" class=\"data row45 col0\" >Clustering</td>\n",
       "      <td id=\"T_6ad0e_row45_col1\" class=\"data row45 col1\" >False</td>\n",
       "    </tr>\n",
       "    <tr>\n",
       "      <th id=\"T_6ad0e_level0_row46\" class=\"row_heading level0 row46\" >46</th>\n",
       "      <td id=\"T_6ad0e_row46_col0\" class=\"data row46 col0\" >Clustering Iteration</td>\n",
       "      <td id=\"T_6ad0e_row46_col1\" class=\"data row46 col1\" >None</td>\n",
       "    </tr>\n",
       "    <tr>\n",
       "      <th id=\"T_6ad0e_level0_row47\" class=\"row_heading level0 row47\" >47</th>\n",
       "      <td id=\"T_6ad0e_row47_col0\" class=\"data row47 col0\" >Polynomial Features</td>\n",
       "      <td id=\"T_6ad0e_row47_col1\" class=\"data row47 col1\" >False</td>\n",
       "    </tr>\n",
       "    <tr>\n",
       "      <th id=\"T_6ad0e_level0_row48\" class=\"row_heading level0 row48\" >48</th>\n",
       "      <td id=\"T_6ad0e_row48_col0\" class=\"data row48 col0\" >Polynomial Degree</td>\n",
       "      <td id=\"T_6ad0e_row48_col1\" class=\"data row48 col1\" >None</td>\n",
       "    </tr>\n",
       "    <tr>\n",
       "      <th id=\"T_6ad0e_level0_row49\" class=\"row_heading level0 row49\" >49</th>\n",
       "      <td id=\"T_6ad0e_row49_col0\" class=\"data row49 col0\" >Trignometry Features</td>\n",
       "      <td id=\"T_6ad0e_row49_col1\" class=\"data row49 col1\" >False</td>\n",
       "    </tr>\n",
       "    <tr>\n",
       "      <th id=\"T_6ad0e_level0_row50\" class=\"row_heading level0 row50\" >50</th>\n",
       "      <td id=\"T_6ad0e_row50_col0\" class=\"data row50 col0\" >Polynomial Threshold</td>\n",
       "      <td id=\"T_6ad0e_row50_col1\" class=\"data row50 col1\" >None</td>\n",
       "    </tr>\n",
       "    <tr>\n",
       "      <th id=\"T_6ad0e_level0_row51\" class=\"row_heading level0 row51\" >51</th>\n",
       "      <td id=\"T_6ad0e_row51_col0\" class=\"data row51 col0\" >Group Features</td>\n",
       "      <td id=\"T_6ad0e_row51_col1\" class=\"data row51 col1\" >False</td>\n",
       "    </tr>\n",
       "    <tr>\n",
       "      <th id=\"T_6ad0e_level0_row52\" class=\"row_heading level0 row52\" >52</th>\n",
       "      <td id=\"T_6ad0e_row52_col0\" class=\"data row52 col0\" >Feature Selection</td>\n",
       "      <td id=\"T_6ad0e_row52_col1\" class=\"data row52 col1\" >True</td>\n",
       "    </tr>\n",
       "    <tr>\n",
       "      <th id=\"T_6ad0e_level0_row53\" class=\"row_heading level0 row53\" >53</th>\n",
       "      <td id=\"T_6ad0e_row53_col0\" class=\"data row53 col0\" >Feature Selection Method</td>\n",
       "      <td id=\"T_6ad0e_row53_col1\" class=\"data row53 col1\" >classic</td>\n",
       "    </tr>\n",
       "    <tr>\n",
       "      <th id=\"T_6ad0e_level0_row54\" class=\"row_heading level0 row54\" >54</th>\n",
       "      <td id=\"T_6ad0e_row54_col0\" class=\"data row54 col0\" >Features Selection Threshold</td>\n",
       "      <td id=\"T_6ad0e_row54_col1\" class=\"data row54 col1\" >0.850000</td>\n",
       "    </tr>\n",
       "    <tr>\n",
       "      <th id=\"T_6ad0e_level0_row55\" class=\"row_heading level0 row55\" >55</th>\n",
       "      <td id=\"T_6ad0e_row55_col0\" class=\"data row55 col0\" >Feature Interaction</td>\n",
       "      <td id=\"T_6ad0e_row55_col1\" class=\"data row55 col1\" >False</td>\n",
       "    </tr>\n",
       "    <tr>\n",
       "      <th id=\"T_6ad0e_level0_row56\" class=\"row_heading level0 row56\" >56</th>\n",
       "      <td id=\"T_6ad0e_row56_col0\" class=\"data row56 col0\" >Feature Ratio</td>\n",
       "      <td id=\"T_6ad0e_row56_col1\" class=\"data row56 col1\" >False</td>\n",
       "    </tr>\n",
       "    <tr>\n",
       "      <th id=\"T_6ad0e_level0_row57\" class=\"row_heading level0 row57\" >57</th>\n",
       "      <td id=\"T_6ad0e_row57_col0\" class=\"data row57 col0\" >Interaction Threshold</td>\n",
       "      <td id=\"T_6ad0e_row57_col1\" class=\"data row57 col1\" >None</td>\n",
       "    </tr>\n",
       "    <tr>\n",
       "      <th id=\"T_6ad0e_level0_row58\" class=\"row_heading level0 row58\" >58</th>\n",
       "      <td id=\"T_6ad0e_row58_col0\" class=\"data row58 col0\" >Fix Imbalance</td>\n",
       "      <td id=\"T_6ad0e_row58_col1\" class=\"data row58 col1\" >False</td>\n",
       "    </tr>\n",
       "    <tr>\n",
       "      <th id=\"T_6ad0e_level0_row59\" class=\"row_heading level0 row59\" >59</th>\n",
       "      <td id=\"T_6ad0e_row59_col0\" class=\"data row59 col0\" >Fix Imbalance Method</td>\n",
       "      <td id=\"T_6ad0e_row59_col1\" class=\"data row59 col1\" >SMOTE</td>\n",
       "    </tr>\n",
       "  </tbody>\n",
       "</table>\n"
      ],
      "text/plain": [
       "<pandas.io.formats.style.Styler at 0x1349cb610>"
      ]
     },
     "metadata": {},
     "output_type": "display_data"
    }
   ],
   "source": [
    "from pycaret.classification import *\n",
    "\n",
    "s = setup(data= train, \n",
    "          target='converted',\n",
    "          normalize=True,         \n",
    "          remove_outliers=True, \n",
    "          silent=True,\n",
    "          normalize_method='robust',\n",
    "          categorical_imputation='constant',\n",
    "          numeric_imputation='mean',\n",
    "          ignore_features=['user_id'], #key \n",
    "          high_cardinality_features=['country','first_device_model'],\n",
    "          numeric_features= num_features,\n",
    "          categorical_features=cat_features,\n",
    "          combine_rare_levels = True,\n",
    "          ignore_low_variance = True,              \n",
    "          outliers_threshold = 0.01,\n",
    "          remove_multicollinearity=True,\n",
    "          feature_selection = True,\n",
    "          feature_selection_threshold = 0.85,\n",
    "          fold = 5,  # cross validation\n",
    "          n_jobs = -1,\n",
    "          session_id=123)"
   ]
  },
  {
   "cell_type": "code",
   "execution_count": 46,
   "id": "3c884476",
   "metadata": {},
   "outputs": [
    {
     "data": {
      "text/html": [
       "<style type=\"text/css\">\n",
       "#T_7839e th {\n",
       "  text-align: left;\n",
       "}\n",
       "#T_7839e_row0_col0, #T_7839e_row0_col3, #T_7839e_row1_col0, #T_7839e_row1_col1, #T_7839e_row1_col2, #T_7839e_row1_col3, #T_7839e_row1_col4, #T_7839e_row1_col5, #T_7839e_row1_col6, #T_7839e_row1_col7, #T_7839e_row2_col0, #T_7839e_row2_col1, #T_7839e_row2_col2, #T_7839e_row2_col3, #T_7839e_row2_col4, #T_7839e_row2_col5, #T_7839e_row2_col6, #T_7839e_row2_col7, #T_7839e_row3_col0, #T_7839e_row3_col1, #T_7839e_row3_col2, #T_7839e_row3_col3, #T_7839e_row3_col4, #T_7839e_row3_col5, #T_7839e_row3_col6, #T_7839e_row3_col7, #T_7839e_row4_col0, #T_7839e_row4_col1, #T_7839e_row4_col2, #T_7839e_row4_col3, #T_7839e_row4_col4, #T_7839e_row4_col5, #T_7839e_row4_col6, #T_7839e_row4_col7, #T_7839e_row5_col0, #T_7839e_row5_col1, #T_7839e_row5_col2, #T_7839e_row5_col3, #T_7839e_row5_col4, #T_7839e_row5_col5, #T_7839e_row5_col6, #T_7839e_row5_col7, #T_7839e_row6_col0, #T_7839e_row6_col1, #T_7839e_row6_col2, #T_7839e_row6_col3, #T_7839e_row6_col4, #T_7839e_row6_col5, #T_7839e_row6_col6, #T_7839e_row6_col7, #T_7839e_row7_col0, #T_7839e_row7_col1, #T_7839e_row7_col2, #T_7839e_row7_col3, #T_7839e_row7_col4, #T_7839e_row7_col5, #T_7839e_row7_col6, #T_7839e_row7_col7, #T_7839e_row8_col0, #T_7839e_row8_col1, #T_7839e_row8_col2, #T_7839e_row8_col3, #T_7839e_row8_col4, #T_7839e_row8_col5, #T_7839e_row8_col6, #T_7839e_row8_col7, #T_7839e_row9_col0, #T_7839e_row9_col1, #T_7839e_row9_col2, #T_7839e_row9_col3, #T_7839e_row9_col4, #T_7839e_row9_col5, #T_7839e_row9_col6, #T_7839e_row9_col7, #T_7839e_row10_col0, #T_7839e_row10_col1, #T_7839e_row10_col2, #T_7839e_row10_col3, #T_7839e_row10_col4, #T_7839e_row10_col5, #T_7839e_row10_col6, #T_7839e_row10_col7, #T_7839e_row11_col0, #T_7839e_row11_col1, #T_7839e_row11_col2, #T_7839e_row11_col4, #T_7839e_row11_col5, #T_7839e_row11_col6, #T_7839e_row11_col7, #T_7839e_row12_col0, #T_7839e_row12_col1, #T_7839e_row12_col2, #T_7839e_row12_col3, #T_7839e_row12_col4, #T_7839e_row12_col5, #T_7839e_row12_col6, #T_7839e_row12_col7, #T_7839e_row13_col0, #T_7839e_row13_col1, #T_7839e_row13_col2, #T_7839e_row13_col3, #T_7839e_row13_col4, #T_7839e_row13_col5, #T_7839e_row13_col6, #T_7839e_row13_col7 {\n",
       "  text-align: left;\n",
       "}\n",
       "#T_7839e_row0_col1, #T_7839e_row0_col2, #T_7839e_row0_col4, #T_7839e_row0_col5, #T_7839e_row0_col6, #T_7839e_row0_col7, #T_7839e_row11_col3 {\n",
       "  text-align: left;\n",
       "  background-color: yellow;\n",
       "}\n",
       "#T_7839e_row0_col8, #T_7839e_row1_col8, #T_7839e_row2_col8, #T_7839e_row3_col8, #T_7839e_row4_col8, #T_7839e_row5_col8, #T_7839e_row6_col8, #T_7839e_row7_col8, #T_7839e_row8_col8, #T_7839e_row9_col8, #T_7839e_row10_col8, #T_7839e_row11_col8, #T_7839e_row13_col8 {\n",
       "  text-align: left;\n",
       "  background-color: lightgrey;\n",
       "}\n",
       "#T_7839e_row12_col8 {\n",
       "  text-align: left;\n",
       "  background-color: yellow;\n",
       "  background-color: lightgrey;\n",
       "}\n",
       "</style>\n",
       "<table id=\"T_7839e\">\n",
       "  <thead>\n",
       "    <tr>\n",
       "      <th class=\"blank level0\" >&nbsp;</th>\n",
       "      <th id=\"T_7839e_level0_col0\" class=\"col_heading level0 col0\" >Model</th>\n",
       "      <th id=\"T_7839e_level0_col1\" class=\"col_heading level0 col1\" >Accuracy</th>\n",
       "      <th id=\"T_7839e_level0_col2\" class=\"col_heading level0 col2\" >AUC</th>\n",
       "      <th id=\"T_7839e_level0_col3\" class=\"col_heading level0 col3\" >Recall</th>\n",
       "      <th id=\"T_7839e_level0_col4\" class=\"col_heading level0 col4\" >Prec.</th>\n",
       "      <th id=\"T_7839e_level0_col5\" class=\"col_heading level0 col5\" >F1</th>\n",
       "      <th id=\"T_7839e_level0_col6\" class=\"col_heading level0 col6\" >Kappa</th>\n",
       "      <th id=\"T_7839e_level0_col7\" class=\"col_heading level0 col7\" >MCC</th>\n",
       "      <th id=\"T_7839e_level0_col8\" class=\"col_heading level0 col8\" >TT (Sec)</th>\n",
       "    </tr>\n",
       "  </thead>\n",
       "  <tbody>\n",
       "    <tr>\n",
       "      <th id=\"T_7839e_level0_row0\" class=\"row_heading level0 row0\" >gbc</th>\n",
       "      <td id=\"T_7839e_row0_col0\" class=\"data row0 col0\" >Gradient Boosting Classifier</td>\n",
       "      <td id=\"T_7839e_row0_col1\" class=\"data row0 col1\" >0.7518</td>\n",
       "      <td id=\"T_7839e_row0_col2\" class=\"data row0 col2\" >0.8244</td>\n",
       "      <td id=\"T_7839e_row0_col3\" class=\"data row0 col3\" >0.7497</td>\n",
       "      <td id=\"T_7839e_row0_col4\" class=\"data row0 col4\" >0.7484</td>\n",
       "      <td id=\"T_7839e_row0_col5\" class=\"data row0 col5\" >0.7489</td>\n",
       "      <td id=\"T_7839e_row0_col6\" class=\"data row0 col6\" >0.5036</td>\n",
       "      <td id=\"T_7839e_row0_col7\" class=\"data row0 col7\" >0.5038</td>\n",
       "      <td id=\"T_7839e_row0_col8\" class=\"data row0 col8\" >0.1080</td>\n",
       "    </tr>\n",
       "    <tr>\n",
       "      <th id=\"T_7839e_level0_row1\" class=\"row_heading level0 row1\" >ada</th>\n",
       "      <td id=\"T_7839e_row1_col0\" class=\"data row1 col0\" >Ada Boost Classifier</td>\n",
       "      <td id=\"T_7839e_row1_col1\" class=\"data row1 col1\" >0.7397</td>\n",
       "      <td id=\"T_7839e_row1_col2\" class=\"data row1 col2\" >0.8057</td>\n",
       "      <td id=\"T_7839e_row1_col3\" class=\"data row1 col3\" >0.7548</td>\n",
       "      <td id=\"T_7839e_row1_col4\" class=\"data row1 col4\" >0.7285</td>\n",
       "      <td id=\"T_7839e_row1_col5\" class=\"data row1 col5\" >0.7412</td>\n",
       "      <td id=\"T_7839e_row1_col6\" class=\"data row1 col6\" >0.4796</td>\n",
       "      <td id=\"T_7839e_row1_col7\" class=\"data row1 col7\" >0.4803</td>\n",
       "      <td id=\"T_7839e_row1_col8\" class=\"data row1 col8\" >0.0500</td>\n",
       "    </tr>\n",
       "    <tr>\n",
       "      <th id=\"T_7839e_level0_row2\" class=\"row_heading level0 row2\" >lightgbm</th>\n",
       "      <td id=\"T_7839e_row2_col0\" class=\"data row2 col0\" >Light Gradient Boosting Machine</td>\n",
       "      <td id=\"T_7839e_row2_col1\" class=\"data row2 col1\" >0.7378</td>\n",
       "      <td id=\"T_7839e_row2_col2\" class=\"data row2 col2\" >0.8089</td>\n",
       "      <td id=\"T_7839e_row2_col3\" class=\"data row2 col3\" >0.7303</td>\n",
       "      <td id=\"T_7839e_row2_col4\" class=\"data row2 col4\" >0.7367</td>\n",
       "      <td id=\"T_7839e_row2_col5\" class=\"data row2 col5\" >0.7333</td>\n",
       "      <td id=\"T_7839e_row2_col6\" class=\"data row2 col6\" >0.4755</td>\n",
       "      <td id=\"T_7839e_row2_col7\" class=\"data row2 col7\" >0.4758</td>\n",
       "      <td id=\"T_7839e_row2_col8\" class=\"data row2 col8\" >0.0480</td>\n",
       "    </tr>\n",
       "    <tr>\n",
       "      <th id=\"T_7839e_level0_row3\" class=\"row_heading level0 row3\" >rf</th>\n",
       "      <td id=\"T_7839e_row3_col0\" class=\"data row3 col0\" >Random Forest Classifier</td>\n",
       "      <td id=\"T_7839e_row3_col1\" class=\"data row3 col1\" >0.7314</td>\n",
       "      <td id=\"T_7839e_row3_col2\" class=\"data row3 col2\" >0.8048</td>\n",
       "      <td id=\"T_7839e_row3_col3\" class=\"data row3 col3\" >0.6897</td>\n",
       "      <td id=\"T_7839e_row3_col4\" class=\"data row3 col4\" >0.7473</td>\n",
       "      <td id=\"T_7839e_row3_col5\" class=\"data row3 col5\" >0.7172</td>\n",
       "      <td id=\"T_7839e_row3_col6\" class=\"data row3 col6\" >0.4623</td>\n",
       "      <td id=\"T_7839e_row3_col7\" class=\"data row3 col7\" >0.4638</td>\n",
       "      <td id=\"T_7839e_row3_col8\" class=\"data row3 col8\" >0.1180</td>\n",
       "    </tr>\n",
       "    <tr>\n",
       "      <th id=\"T_7839e_level0_row4\" class=\"row_heading level0 row4\" >et</th>\n",
       "      <td id=\"T_7839e_row4_col0\" class=\"data row4 col0\" >Extra Trees Classifier</td>\n",
       "      <td id=\"T_7839e_row4_col1\" class=\"data row4 col1\" >0.7095</td>\n",
       "      <td id=\"T_7839e_row4_col2\" class=\"data row4 col2\" >0.7778</td>\n",
       "      <td id=\"T_7839e_row4_col3\" class=\"data row4 col3\" >0.6710</td>\n",
       "      <td id=\"T_7839e_row4_col4\" class=\"data row4 col4\" >0.7218</td>\n",
       "      <td id=\"T_7839e_row4_col5\" class=\"data row4 col5\" >0.6951</td>\n",
       "      <td id=\"T_7839e_row4_col6\" class=\"data row4 col6\" >0.4183</td>\n",
       "      <td id=\"T_7839e_row4_col7\" class=\"data row4 col7\" >0.4197</td>\n",
       "      <td id=\"T_7839e_row4_col8\" class=\"data row4 col8\" >0.1020</td>\n",
       "    </tr>\n",
       "    <tr>\n",
       "      <th id=\"T_7839e_level0_row5\" class=\"row_heading level0 row5\" >ridge</th>\n",
       "      <td id=\"T_7839e_row5_col0\" class=\"data row5 col0\" >Ridge Classifier</td>\n",
       "      <td id=\"T_7839e_row5_col1\" class=\"data row5 col1\" >0.7025</td>\n",
       "      <td id=\"T_7839e_row5_col2\" class=\"data row5 col2\" >0.0000</td>\n",
       "      <td id=\"T_7839e_row5_col3\" class=\"data row5 col3\" >0.6845</td>\n",
       "      <td id=\"T_7839e_row5_col4\" class=\"data row5 col4\" >0.7047</td>\n",
       "      <td id=\"T_7839e_row5_col5\" class=\"data row5 col5\" >0.6943</td>\n",
       "      <td id=\"T_7839e_row5_col6\" class=\"data row5 col6\" >0.4046</td>\n",
       "      <td id=\"T_7839e_row5_col7\" class=\"data row5 col7\" >0.4049</td>\n",
       "      <td id=\"T_7839e_row5_col8\" class=\"data row5 col8\" >0.0120</td>\n",
       "    </tr>\n",
       "    <tr>\n",
       "      <th id=\"T_7839e_level0_row6\" class=\"row_heading level0 row6\" >lda</th>\n",
       "      <td id=\"T_7839e_row6_col0\" class=\"data row6 col0\" >Linear Discriminant Analysis</td>\n",
       "      <td id=\"T_7839e_row6_col1\" class=\"data row6 col1\" >0.7025</td>\n",
       "      <td id=\"T_7839e_row6_col2\" class=\"data row6 col2\" >0.7692</td>\n",
       "      <td id=\"T_7839e_row6_col3\" class=\"data row6 col3\" >0.6845</td>\n",
       "      <td id=\"T_7839e_row6_col4\" class=\"data row6 col4\" >0.7047</td>\n",
       "      <td id=\"T_7839e_row6_col5\" class=\"data row6 col5\" >0.6943</td>\n",
       "      <td id=\"T_7839e_row6_col6\" class=\"data row6 col6\" >0.4046</td>\n",
       "      <td id=\"T_7839e_row6_col7\" class=\"data row6 col7\" >0.4049</td>\n",
       "      <td id=\"T_7839e_row6_col8\" class=\"data row6 col8\" >0.0120</td>\n",
       "    </tr>\n",
       "    <tr>\n",
       "      <th id=\"T_7839e_level0_row7\" class=\"row_heading level0 row7\" >knn</th>\n",
       "      <td id=\"T_7839e_row7_col0\" class=\"data row7 col0\" >K Neighbors Classifier</td>\n",
       "      <td id=\"T_7839e_row7_col1\" class=\"data row7 col1\" >0.6970</td>\n",
       "      <td id=\"T_7839e_row7_col2\" class=\"data row7 col2\" >0.7598</td>\n",
       "      <td id=\"T_7839e_row7_col3\" class=\"data row7 col3\" >0.6826</td>\n",
       "      <td id=\"T_7839e_row7_col4\" class=\"data row7 col4\" >0.6976</td>\n",
       "      <td id=\"T_7839e_row7_col5\" class=\"data row7 col5\" >0.6898</td>\n",
       "      <td id=\"T_7839e_row7_col6\" class=\"data row7 col6\" >0.3938</td>\n",
       "      <td id=\"T_7839e_row7_col7\" class=\"data row7 col7\" >0.3941</td>\n",
       "      <td id=\"T_7839e_row7_col8\" class=\"data row7 col8\" >0.4080</td>\n",
       "    </tr>\n",
       "    <tr>\n",
       "      <th id=\"T_7839e_level0_row8\" class=\"row_heading level0 row8\" >lr</th>\n",
       "      <td id=\"T_7839e_row8_col0\" class=\"data row8 col0\" >Logistic Regression</td>\n",
       "      <td id=\"T_7839e_row8_col1\" class=\"data row8 col1\" >0.6725</td>\n",
       "      <td id=\"T_7839e_row8_col2\" class=\"data row8 col2\" >0.7291</td>\n",
       "      <td id=\"T_7839e_row8_col3\" class=\"data row8 col3\" >0.7168</td>\n",
       "      <td id=\"T_7839e_row8_col4\" class=\"data row8 col4\" >0.6539</td>\n",
       "      <td id=\"T_7839e_row8_col5\" class=\"data row8 col5\" >0.6837</td>\n",
       "      <td id=\"T_7839e_row8_col6\" class=\"data row8 col6\" >0.3457</td>\n",
       "      <td id=\"T_7839e_row8_col7\" class=\"data row8 col7\" >0.3475</td>\n",
       "      <td id=\"T_7839e_row8_col8\" class=\"data row8 col8\" >0.6280</td>\n",
       "    </tr>\n",
       "    <tr>\n",
       "      <th id=\"T_7839e_level0_row9\" class=\"row_heading level0 row9\" >dt</th>\n",
       "      <td id=\"T_7839e_row9_col0\" class=\"data row9 col0\" >Decision Tree Classifier</td>\n",
       "      <td id=\"T_7839e_row9_col1\" class=\"data row9 col1\" >0.6620</td>\n",
       "      <td id=\"T_7839e_row9_col2\" class=\"data row9 col2\" >0.6628</td>\n",
       "      <td id=\"T_7839e_row9_col3\" class=\"data row9 col3\" >0.6503</td>\n",
       "      <td id=\"T_7839e_row9_col4\" class=\"data row9 col4\" >0.6600</td>\n",
       "      <td id=\"T_7839e_row9_col5\" class=\"data row9 col5\" >0.6548</td>\n",
       "      <td id=\"T_7839e_row9_col6\" class=\"data row9 col6\" >0.3238</td>\n",
       "      <td id=\"T_7839e_row9_col7\" class=\"data row9 col7\" >0.3241</td>\n",
       "      <td id=\"T_7839e_row9_col8\" class=\"data row9 col8\" >0.0120</td>\n",
       "    </tr>\n",
       "    <tr>\n",
       "      <th id=\"T_7839e_level0_row10\" class=\"row_heading level0 row10\" >svm</th>\n",
       "      <td id=\"T_7839e_row10_col0\" class=\"data row10 col0\" >SVM - Linear Kernel</td>\n",
       "      <td id=\"T_7839e_row10_col1\" class=\"data row10 col1\" >0.5693</td>\n",
       "      <td id=\"T_7839e_row10_col2\" class=\"data row10 col2\" >0.0000</td>\n",
       "      <td id=\"T_7839e_row10_col3\" class=\"data row10 col3\" >0.5942</td>\n",
       "      <td id=\"T_7839e_row10_col4\" class=\"data row10 col4\" >0.5648</td>\n",
       "      <td id=\"T_7839e_row10_col5\" class=\"data row10 col5\" >0.5773</td>\n",
       "      <td id=\"T_7839e_row10_col6\" class=\"data row10 col6\" >0.1392</td>\n",
       "      <td id=\"T_7839e_row10_col7\" class=\"data row10 col7\" >0.1398</td>\n",
       "      <td id=\"T_7839e_row10_col8\" class=\"data row10 col8\" >0.0140</td>\n",
       "    </tr>\n",
       "    <tr>\n",
       "      <th id=\"T_7839e_level0_row11\" class=\"row_heading level0 row11\" >nb</th>\n",
       "      <td id=\"T_7839e_row11_col0\" class=\"data row11 col0\" >Naive Bayes</td>\n",
       "      <td id=\"T_7839e_row11_col1\" class=\"data row11 col1\" >0.5135</td>\n",
       "      <td id=\"T_7839e_row11_col2\" class=\"data row11 col2\" >0.7153</td>\n",
       "      <td id=\"T_7839e_row11_col3\" class=\"data row11 col3\" >0.8206</td>\n",
       "      <td id=\"T_7839e_row11_col4\" class=\"data row11 col4\" >0.5491</td>\n",
       "      <td id=\"T_7839e_row11_col5\" class=\"data row11 col5\" >0.6075</td>\n",
       "      <td id=\"T_7839e_row11_col6\" class=\"data row11 col6\" >0.0350</td>\n",
       "      <td id=\"T_7839e_row11_col7\" class=\"data row11 col7\" >0.0287</td>\n",
       "      <td id=\"T_7839e_row11_col8\" class=\"data row11 col8\" >0.3680</td>\n",
       "    </tr>\n",
       "    <tr>\n",
       "      <th id=\"T_7839e_level0_row12\" class=\"row_heading level0 row12\" >dummy</th>\n",
       "      <td id=\"T_7839e_row12_col0\" class=\"data row12 col0\" >Dummy Classifier</td>\n",
       "      <td id=\"T_7839e_row12_col1\" class=\"data row12 col1\" >0.5062</td>\n",
       "      <td id=\"T_7839e_row12_col2\" class=\"data row12 col2\" >0.5000</td>\n",
       "      <td id=\"T_7839e_row12_col3\" class=\"data row12 col3\" >0.0000</td>\n",
       "      <td id=\"T_7839e_row12_col4\" class=\"data row12 col4\" >0.0000</td>\n",
       "      <td id=\"T_7839e_row12_col5\" class=\"data row12 col5\" >0.0000</td>\n",
       "      <td id=\"T_7839e_row12_col6\" class=\"data row12 col6\" >0.0000</td>\n",
       "      <td id=\"T_7839e_row12_col7\" class=\"data row12 col7\" >0.0000</td>\n",
       "      <td id=\"T_7839e_row12_col8\" class=\"data row12 col8\" >0.0080</td>\n",
       "    </tr>\n",
       "    <tr>\n",
       "      <th id=\"T_7839e_level0_row13\" class=\"row_heading level0 row13\" >qda</th>\n",
       "      <td id=\"T_7839e_row13_col0\" class=\"data row13 col0\" >Quadratic Discriminant Analysis</td>\n",
       "      <td id=\"T_7839e_row13_col1\" class=\"data row13 col1\" >0.5027</td>\n",
       "      <td id=\"T_7839e_row13_col2\" class=\"data row13 col2\" >0.5026</td>\n",
       "      <td id=\"T_7839e_row13_col3\" class=\"data row13 col3\" >0.4903</td>\n",
       "      <td id=\"T_7839e_row13_col4\" class=\"data row13 col4\" >0.5035</td>\n",
       "      <td id=\"T_7839e_row13_col5\" class=\"data row13 col5\" >0.4698</td>\n",
       "      <td id=\"T_7839e_row13_col6\" class=\"data row13 col6\" >0.0052</td>\n",
       "      <td id=\"T_7839e_row13_col7\" class=\"data row13 col7\" >0.0084</td>\n",
       "      <td id=\"T_7839e_row13_col8\" class=\"data row13 col8\" >0.0100</td>\n",
       "    </tr>\n",
       "  </tbody>\n",
       "</table>\n"
      ],
      "text/plain": [
       "<pandas.io.formats.style.Styler at 0x134cb09a0>"
      ]
     },
     "metadata": {},
     "output_type": "display_data"
    }
   ],
   "source": [
    "best_model = compare_models()  # greater is better for all types..."
   ]
  },
  {
   "cell_type": "code",
   "execution_count": 47,
   "id": "837f7687",
   "metadata": {},
   "outputs": [
    {
     "data": {
      "text/html": [
       "<style type=\"text/css\">\n",
       "#T_0f0c1 th {\n",
       "  text-align: left;\n",
       "}\n",
       "#T_0f0c1_row0_col0, #T_0f0c1_row0_col1, #T_0f0c1_row0_col2, #T_0f0c1_row0_col4, #T_0f0c1_row0_col5, #T_0f0c1_row0_col6, #T_0f0c1_row0_col7, #T_0f0c1_row1_col0, #T_0f0c1_row1_col3, #T_0f0c1_row2_col0, #T_0f0c1_row2_col1, #T_0f0c1_row2_col2, #T_0f0c1_row2_col3, #T_0f0c1_row2_col4, #T_0f0c1_row2_col5, #T_0f0c1_row2_col6, #T_0f0c1_row2_col7, #T_0f0c1_row3_col0, #T_0f0c1_row3_col1, #T_0f0c1_row3_col2, #T_0f0c1_row3_col3, #T_0f0c1_row3_col4, #T_0f0c1_row3_col5, #T_0f0c1_row3_col6, #T_0f0c1_row3_col7 {\n",
       "  text-align: left;\n",
       "}\n",
       "#T_0f0c1_row0_col3, #T_0f0c1_row1_col1, #T_0f0c1_row1_col2, #T_0f0c1_row1_col4, #T_0f0c1_row1_col5, #T_0f0c1_row1_col6, #T_0f0c1_row1_col7 {\n",
       "  text-align: left;\n",
       "  background-color: yellow;\n",
       "}\n",
       "#T_0f0c1_row0_col8, #T_0f0c1_row1_col8, #T_0f0c1_row3_col8 {\n",
       "  text-align: left;\n",
       "  background-color: lightgrey;\n",
       "}\n",
       "#T_0f0c1_row2_col8 {\n",
       "  text-align: left;\n",
       "  background-color: yellow;\n",
       "  background-color: lightgrey;\n",
       "}\n",
       "</style>\n",
       "<table id=\"T_0f0c1\">\n",
       "  <thead>\n",
       "    <tr>\n",
       "      <th class=\"blank level0\" >&nbsp;</th>\n",
       "      <th id=\"T_0f0c1_level0_col0\" class=\"col_heading level0 col0\" >Model</th>\n",
       "      <th id=\"T_0f0c1_level0_col1\" class=\"col_heading level0 col1\" >Accuracy</th>\n",
       "      <th id=\"T_0f0c1_level0_col2\" class=\"col_heading level0 col2\" >AUC</th>\n",
       "      <th id=\"T_0f0c1_level0_col3\" class=\"col_heading level0 col3\" >Recall</th>\n",
       "      <th id=\"T_0f0c1_level0_col4\" class=\"col_heading level0 col4\" >Prec.</th>\n",
       "      <th id=\"T_0f0c1_level0_col5\" class=\"col_heading level0 col5\" >F1</th>\n",
       "      <th id=\"T_0f0c1_level0_col6\" class=\"col_heading level0 col6\" >Kappa</th>\n",
       "      <th id=\"T_0f0c1_level0_col7\" class=\"col_heading level0 col7\" >MCC</th>\n",
       "      <th id=\"T_0f0c1_level0_col8\" class=\"col_heading level0 col8\" >TT (Sec)</th>\n",
       "    </tr>\n",
       "  </thead>\n",
       "  <tbody>\n",
       "    <tr>\n",
       "      <th id=\"T_0f0c1_level0_row0\" class=\"row_heading level0 row0\" >ada</th>\n",
       "      <td id=\"T_0f0c1_row0_col0\" class=\"data row0 col0\" >Ada Boost Classifier</td>\n",
       "      <td id=\"T_0f0c1_row0_col1\" class=\"data row0 col1\" >0.7397</td>\n",
       "      <td id=\"T_0f0c1_row0_col2\" class=\"data row0 col2\" >0.8057</td>\n",
       "      <td id=\"T_0f0c1_row0_col3\" class=\"data row0 col3\" >0.7548</td>\n",
       "      <td id=\"T_0f0c1_row0_col4\" class=\"data row0 col4\" >0.7285</td>\n",
       "      <td id=\"T_0f0c1_row0_col5\" class=\"data row0 col5\" >0.7412</td>\n",
       "      <td id=\"T_0f0c1_row0_col6\" class=\"data row0 col6\" >0.4796</td>\n",
       "      <td id=\"T_0f0c1_row0_col7\" class=\"data row0 col7\" >0.4803</td>\n",
       "      <td id=\"T_0f0c1_row0_col8\" class=\"data row0 col8\" >0.0480</td>\n",
       "    </tr>\n",
       "    <tr>\n",
       "      <th id=\"T_0f0c1_level0_row1\" class=\"row_heading level0 row1\" >gbc</th>\n",
       "      <td id=\"T_0f0c1_row1_col0\" class=\"data row1 col0\" >Gradient Boosting Classifier</td>\n",
       "      <td id=\"T_0f0c1_row1_col1\" class=\"data row1 col1\" >0.7518</td>\n",
       "      <td id=\"T_0f0c1_row1_col2\" class=\"data row1 col2\" >0.8244</td>\n",
       "      <td id=\"T_0f0c1_row1_col3\" class=\"data row1 col3\" >0.7497</td>\n",
       "      <td id=\"T_0f0c1_row1_col4\" class=\"data row1 col4\" >0.7484</td>\n",
       "      <td id=\"T_0f0c1_row1_col5\" class=\"data row1 col5\" >0.7489</td>\n",
       "      <td id=\"T_0f0c1_row1_col6\" class=\"data row1 col6\" >0.5036</td>\n",
       "      <td id=\"T_0f0c1_row1_col7\" class=\"data row1 col7\" >0.5038</td>\n",
       "      <td id=\"T_0f0c1_row1_col8\" class=\"data row1 col8\" >0.1200</td>\n",
       "    </tr>\n",
       "    <tr>\n",
       "      <th id=\"T_0f0c1_level0_row2\" class=\"row_heading level0 row2\" >lightgbm</th>\n",
       "      <td id=\"T_0f0c1_row2_col0\" class=\"data row2 col0\" >Light Gradient Boosting Machine</td>\n",
       "      <td id=\"T_0f0c1_row2_col1\" class=\"data row2 col1\" >0.7378</td>\n",
       "      <td id=\"T_0f0c1_row2_col2\" class=\"data row2 col2\" >0.8089</td>\n",
       "      <td id=\"T_0f0c1_row2_col3\" class=\"data row2 col3\" >0.7303</td>\n",
       "      <td id=\"T_0f0c1_row2_col4\" class=\"data row2 col4\" >0.7367</td>\n",
       "      <td id=\"T_0f0c1_row2_col5\" class=\"data row2 col5\" >0.7333</td>\n",
       "      <td id=\"T_0f0c1_row2_col6\" class=\"data row2 col6\" >0.4755</td>\n",
       "      <td id=\"T_0f0c1_row2_col7\" class=\"data row2 col7\" >0.4758</td>\n",
       "      <td id=\"T_0f0c1_row2_col8\" class=\"data row2 col8\" >0.0460</td>\n",
       "    </tr>\n",
       "    <tr>\n",
       "      <th id=\"T_0f0c1_level0_row3\" class=\"row_heading level0 row3\" >rf</th>\n",
       "      <td id=\"T_0f0c1_row3_col0\" class=\"data row3 col0\" >Random Forest Classifier</td>\n",
       "      <td id=\"T_0f0c1_row3_col1\" class=\"data row3 col1\" >0.7314</td>\n",
       "      <td id=\"T_0f0c1_row3_col2\" class=\"data row3 col2\" >0.8048</td>\n",
       "      <td id=\"T_0f0c1_row3_col3\" class=\"data row3 col3\" >0.6897</td>\n",
       "      <td id=\"T_0f0c1_row3_col4\" class=\"data row3 col4\" >0.7473</td>\n",
       "      <td id=\"T_0f0c1_row3_col5\" class=\"data row3 col5\" >0.7172</td>\n",
       "      <td id=\"T_0f0c1_row3_col6\" class=\"data row3 col6\" >0.4623</td>\n",
       "      <td id=\"T_0f0c1_row3_col7\" class=\"data row3 col7\" >0.4638</td>\n",
       "      <td id=\"T_0f0c1_row3_col8\" class=\"data row3 col8\" >0.1260</td>\n",
       "    </tr>\n",
       "  </tbody>\n",
       "</table>\n"
      ],
      "text/plain": [
       "<pandas.io.formats.style.Styler at 0x134cf8100>"
      ]
     },
     "metadata": {},
     "output_type": "display_data"
    }
   ],
   "source": [
    "algos = ['lightgbm', 'rf','gbc', 'ada'] # models with recall > %70\n",
    "best_choosen = compare_models(include = algos, n_select = len(algos), sort = 'recall')"
   ]
  },
  {
   "cell_type": "code",
   "execution_count": 49,
   "id": "60f202c4",
   "metadata": {},
   "outputs": [
    {
     "data": {
      "text/plain": [
       "GradientBoostingClassifier(ccp_alpha=0.0, criterion='friedman_mse', init=None,\n",
       "                           learning_rate=0.1, loss='deviance', max_depth=3,\n",
       "                           max_features=None, max_leaf_nodes=None,\n",
       "                           min_impurity_decrease=0.0, min_impurity_split=None,\n",
       "                           min_samples_leaf=1, min_samples_split=2,\n",
       "                           min_weight_fraction_leaf=0.0, n_estimators=100,\n",
       "                           n_iter_no_change=None, presort='deprecated',\n",
       "                           random_state=123, subsample=1.0, tol=0.0001,\n",
       "                           validation_fraction=0.1, verbose=0,\n",
       "                           warm_start=False)"
      ]
     },
     "execution_count": 49,
     "metadata": {},
     "output_type": "execute_result"
    }
   ],
   "source": [
    "best_model = best_choosen[1]\n",
    "best_model"
   ]
  },
  {
   "cell_type": "code",
   "execution_count": 50,
   "id": "4a992fb6",
   "metadata": {},
   "outputs": [
    {
     "data": {
      "text/html": [
       "<style type=\"text/css\">\n",
       "#T_979f0_row5_col0, #T_979f0_row5_col1, #T_979f0_row5_col2, #T_979f0_row5_col3, #T_979f0_row5_col4, #T_979f0_row5_col5, #T_979f0_row5_col6 {\n",
       "  background: yellow;\n",
       "}\n",
       "</style>\n",
       "<table id=\"T_979f0\">\n",
       "  <thead>\n",
       "    <tr>\n",
       "      <th class=\"blank level0\" >&nbsp;</th>\n",
       "      <th id=\"T_979f0_level0_col0\" class=\"col_heading level0 col0\" >Accuracy</th>\n",
       "      <th id=\"T_979f0_level0_col1\" class=\"col_heading level0 col1\" >AUC</th>\n",
       "      <th id=\"T_979f0_level0_col2\" class=\"col_heading level0 col2\" >Recall</th>\n",
       "      <th id=\"T_979f0_level0_col3\" class=\"col_heading level0 col3\" >Prec.</th>\n",
       "      <th id=\"T_979f0_level0_col4\" class=\"col_heading level0 col4\" >F1</th>\n",
       "      <th id=\"T_979f0_level0_col5\" class=\"col_heading level0 col5\" >Kappa</th>\n",
       "      <th id=\"T_979f0_level0_col6\" class=\"col_heading level0 col6\" >MCC</th>\n",
       "    </tr>\n",
       "    <tr>\n",
       "      <th class=\"index_name level0\" >Fold</th>\n",
       "      <th class=\"blank col0\" >&nbsp;</th>\n",
       "      <th class=\"blank col1\" >&nbsp;</th>\n",
       "      <th class=\"blank col2\" >&nbsp;</th>\n",
       "      <th class=\"blank col3\" >&nbsp;</th>\n",
       "      <th class=\"blank col4\" >&nbsp;</th>\n",
       "      <th class=\"blank col5\" >&nbsp;</th>\n",
       "      <th class=\"blank col6\" >&nbsp;</th>\n",
       "    </tr>\n",
       "  </thead>\n",
       "  <tbody>\n",
       "    <tr>\n",
       "      <th id=\"T_979f0_level0_row0\" class=\"row_heading level0 row0\" >0</th>\n",
       "      <td id=\"T_979f0_row0_col0\" class=\"data row0 col0\" >0.7452</td>\n",
       "      <td id=\"T_979f0_row0_col1\" class=\"data row0 col1\" >0.8067</td>\n",
       "      <td id=\"T_979f0_row0_col2\" class=\"data row0 col2\" >0.7484</td>\n",
       "      <td id=\"T_979f0_row0_col3\" class=\"data row0 col3\" >0.7389</td>\n",
       "      <td id=\"T_979f0_row0_col4\" class=\"data row0 col4\" >0.7436</td>\n",
       "      <td id=\"T_979f0_row0_col5\" class=\"data row0 col5\" >0.4904</td>\n",
       "      <td id=\"T_979f0_row0_col6\" class=\"data row0 col6\" >0.4905</td>\n",
       "    </tr>\n",
       "    <tr>\n",
       "      <th id=\"T_979f0_level0_row1\" class=\"row_heading level0 row1\" >1</th>\n",
       "      <td id=\"T_979f0_row1_col0\" class=\"data row1 col0\" >0.7643</td>\n",
       "      <td id=\"T_979f0_row1_col1\" class=\"data row1 col1\" >0.8433</td>\n",
       "      <td id=\"T_979f0_row1_col2\" class=\"data row1 col2\" >0.7452</td>\n",
       "      <td id=\"T_979f0_row1_col3\" class=\"data row1 col3\" >0.7700</td>\n",
       "      <td id=\"T_979f0_row1_col4\" class=\"data row1 col4\" >0.7574</td>\n",
       "      <td id=\"T_979f0_row1_col5\" class=\"data row1 col5\" >0.5284</td>\n",
       "      <td id=\"T_979f0_row1_col6\" class=\"data row1 col6\" >0.5287</td>\n",
       "    </tr>\n",
       "    <tr>\n",
       "      <th id=\"T_979f0_level0_row2\" class=\"row_heading level0 row2\" >2</th>\n",
       "      <td id=\"T_979f0_row2_col0\" class=\"data row2 col0\" >0.7357</td>\n",
       "      <td id=\"T_979f0_row2_col1\" class=\"data row2 col1\" >0.8193</td>\n",
       "      <td id=\"T_979f0_row2_col2\" class=\"data row2 col2\" >0.7258</td>\n",
       "      <td id=\"T_979f0_row2_col3\" class=\"data row2 col3\" >0.7353</td>\n",
       "      <td id=\"T_979f0_row2_col4\" class=\"data row2 col4\" >0.7305</td>\n",
       "      <td id=\"T_979f0_row2_col5\" class=\"data row2 col5\" >0.4712</td>\n",
       "      <td id=\"T_979f0_row2_col6\" class=\"data row2 col6\" >0.4712</td>\n",
       "    </tr>\n",
       "    <tr>\n",
       "      <th id=\"T_979f0_level0_row3\" class=\"row_heading level0 row3\" >3</th>\n",
       "      <td id=\"T_979f0_row3_col0\" class=\"data row3 col0\" >0.7548</td>\n",
       "      <td id=\"T_979f0_row3_col1\" class=\"data row3 col1\" >0.8282</td>\n",
       "      <td id=\"T_979f0_row3_col2\" class=\"data row3 col2\" >0.7516</td>\n",
       "      <td id=\"T_979f0_row3_col3\" class=\"data row3 col3\" >0.7516</td>\n",
       "      <td id=\"T_979f0_row3_col4\" class=\"data row3 col4\" >0.7516</td>\n",
       "      <td id=\"T_979f0_row3_col5\" class=\"data row3 col5\" >0.5095</td>\n",
       "      <td id=\"T_979f0_row3_col6\" class=\"data row3 col6\" >0.5095</td>\n",
       "    </tr>\n",
       "    <tr>\n",
       "      <th id=\"T_979f0_level0_row4\" class=\"row_heading level0 row4\" >4</th>\n",
       "      <td id=\"T_979f0_row4_col0\" class=\"data row4 col0\" >0.7592</td>\n",
       "      <td id=\"T_979f0_row4_col1\" class=\"data row4 col1\" >0.8243</td>\n",
       "      <td id=\"T_979f0_row4_col2\" class=\"data row4 col2\" >0.7774</td>\n",
       "      <td id=\"T_979f0_row4_col3\" class=\"data row4 col3\" >0.7461</td>\n",
       "      <td id=\"T_979f0_row4_col4\" class=\"data row4 col4\" >0.7615</td>\n",
       "      <td id=\"T_979f0_row4_col5\" class=\"data row4 col5\" >0.5185</td>\n",
       "      <td id=\"T_979f0_row4_col6\" class=\"data row4 col6\" >0.5190</td>\n",
       "    </tr>\n",
       "    <tr>\n",
       "      <th id=\"T_979f0_level0_row5\" class=\"row_heading level0 row5\" >Mean</th>\n",
       "      <td id=\"T_979f0_row5_col0\" class=\"data row5 col0\" >0.7518</td>\n",
       "      <td id=\"T_979f0_row5_col1\" class=\"data row5 col1\" >0.8244</td>\n",
       "      <td id=\"T_979f0_row5_col2\" class=\"data row5 col2\" >0.7497</td>\n",
       "      <td id=\"T_979f0_row5_col3\" class=\"data row5 col3\" >0.7484</td>\n",
       "      <td id=\"T_979f0_row5_col4\" class=\"data row5 col4\" >0.7489</td>\n",
       "      <td id=\"T_979f0_row5_col5\" class=\"data row5 col5\" >0.5036</td>\n",
       "      <td id=\"T_979f0_row5_col6\" class=\"data row5 col6\" >0.5038</td>\n",
       "    </tr>\n",
       "    <tr>\n",
       "      <th id=\"T_979f0_level0_row6\" class=\"row_heading level0 row6\" >Std</th>\n",
       "      <td id=\"T_979f0_row6_col0\" class=\"data row6 col0\" >0.0102</td>\n",
       "      <td id=\"T_979f0_row6_col1\" class=\"data row6 col1\" >0.0119</td>\n",
       "      <td id=\"T_979f0_row6_col2\" class=\"data row6 col2\" >0.0165</td>\n",
       "      <td id=\"T_979f0_row6_col3\" class=\"data row6 col3\" >0.0122</td>\n",
       "      <td id=\"T_979f0_row6_col4\" class=\"data row6 col4\" >0.0110</td>\n",
       "      <td id=\"T_979f0_row6_col5\" class=\"data row6 col5\" >0.0205</td>\n",
       "      <td id=\"T_979f0_row6_col6\" class=\"data row6 col6\" >0.0206</td>\n",
       "    </tr>\n",
       "  </tbody>\n",
       "</table>\n"
      ],
      "text/plain": [
       "<pandas.io.formats.style.Styler at 0x12ec5db50>"
      ]
     },
     "metadata": {},
     "output_type": "display_data"
    }
   ],
   "source": [
    "m = create_model(best_model)"
   ]
  },
  {
   "cell_type": "markdown",
   "id": "703b1ef4",
   "metadata": {},
   "source": [
    "# Hyperparameter Tuning"
   ]
  },
  {
   "cell_type": "code",
   "execution_count": 51,
   "id": "bb1c98d3",
   "metadata": {},
   "outputs": [],
   "source": [
    "# defining search space (random & grid)\n",
    "params = {\"max_depth\": np.random.randint(1, (len(df.columns)*.85),10),\n",
    "          \"max_features\": np.random.randint(1, len(df.columns),10),\n",
    "          \"min_samples_leaf\": [1,2,3,4]}"
   ]
  },
  {
   "cell_type": "code",
   "execution_count": 52,
   "id": "50e34856",
   "metadata": {},
   "outputs": [
    {
     "data": {
      "text/html": [
       "<style type=\"text/css\">\n",
       "#T_51a63_row5_col0, #T_51a63_row5_col1, #T_51a63_row5_col2, #T_51a63_row5_col3, #T_51a63_row5_col4, #T_51a63_row5_col5, #T_51a63_row5_col6 {\n",
       "  background: yellow;\n",
       "}\n",
       "</style>\n",
       "<table id=\"T_51a63\">\n",
       "  <thead>\n",
       "    <tr>\n",
       "      <th class=\"blank level0\" >&nbsp;</th>\n",
       "      <th id=\"T_51a63_level0_col0\" class=\"col_heading level0 col0\" >Accuracy</th>\n",
       "      <th id=\"T_51a63_level0_col1\" class=\"col_heading level0 col1\" >AUC</th>\n",
       "      <th id=\"T_51a63_level0_col2\" class=\"col_heading level0 col2\" >Recall</th>\n",
       "      <th id=\"T_51a63_level0_col3\" class=\"col_heading level0 col3\" >Prec.</th>\n",
       "      <th id=\"T_51a63_level0_col4\" class=\"col_heading level0 col4\" >F1</th>\n",
       "      <th id=\"T_51a63_level0_col5\" class=\"col_heading level0 col5\" >Kappa</th>\n",
       "      <th id=\"T_51a63_level0_col6\" class=\"col_heading level0 col6\" >MCC</th>\n",
       "    </tr>\n",
       "    <tr>\n",
       "      <th class=\"index_name level0\" >Fold</th>\n",
       "      <th class=\"blank col0\" >&nbsp;</th>\n",
       "      <th class=\"blank col1\" >&nbsp;</th>\n",
       "      <th class=\"blank col2\" >&nbsp;</th>\n",
       "      <th class=\"blank col3\" >&nbsp;</th>\n",
       "      <th class=\"blank col4\" >&nbsp;</th>\n",
       "      <th class=\"blank col5\" >&nbsp;</th>\n",
       "      <th class=\"blank col6\" >&nbsp;</th>\n",
       "    </tr>\n",
       "  </thead>\n",
       "  <tbody>\n",
       "    <tr>\n",
       "      <th id=\"T_51a63_level0_row0\" class=\"row_heading level0 row0\" >0</th>\n",
       "      <td id=\"T_51a63_row0_col0\" class=\"data row0 col0\" >0.7357</td>\n",
       "      <td id=\"T_51a63_row0_col1\" class=\"data row0 col1\" >0.8052</td>\n",
       "      <td id=\"T_51a63_row0_col2\" class=\"data row0 col2\" >0.7484</td>\n",
       "      <td id=\"T_51a63_row0_col3\" class=\"data row0 col3\" >0.7250</td>\n",
       "      <td id=\"T_51a63_row0_col4\" class=\"data row0 col4\" >0.7365</td>\n",
       "      <td id=\"T_51a63_row0_col5\" class=\"data row0 col5\" >0.4715</td>\n",
       "      <td id=\"T_51a63_row0_col6\" class=\"data row0 col6\" >0.4717</td>\n",
       "    </tr>\n",
       "    <tr>\n",
       "      <th id=\"T_51a63_level0_row1\" class=\"row_heading level0 row1\" >1</th>\n",
       "      <td id=\"T_51a63_row1_col0\" class=\"data row1 col0\" >0.7707</td>\n",
       "      <td id=\"T_51a63_row1_col1\" class=\"data row1 col1\" >0.8473</td>\n",
       "      <td id=\"T_51a63_row1_col2\" class=\"data row1 col2\" >0.7516</td>\n",
       "      <td id=\"T_51a63_row1_col3\" class=\"data row1 col3\" >0.7767</td>\n",
       "      <td id=\"T_51a63_row1_col4\" class=\"data row1 col4\" >0.7639</td>\n",
       "      <td id=\"T_51a63_row1_col5\" class=\"data row1 col5\" >0.5411</td>\n",
       "      <td id=\"T_51a63_row1_col6\" class=\"data row1 col6\" >0.5414</td>\n",
       "    </tr>\n",
       "    <tr>\n",
       "      <th id=\"T_51a63_level0_row2\" class=\"row_heading level0 row2\" >2</th>\n",
       "      <td id=\"T_51a63_row2_col0\" class=\"data row2 col0\" >0.7500</td>\n",
       "      <td id=\"T_51a63_row2_col1\" class=\"data row2 col1\" >0.8218</td>\n",
       "      <td id=\"T_51a63_row2_col2\" class=\"data row2 col2\" >0.7484</td>\n",
       "      <td id=\"T_51a63_row2_col3\" class=\"data row2 col3\" >0.7460</td>\n",
       "      <td id=\"T_51a63_row2_col4\" class=\"data row2 col4\" >0.7472</td>\n",
       "      <td id=\"T_51a63_row2_col5\" class=\"data row2 col5\" >0.4999</td>\n",
       "      <td id=\"T_51a63_row2_col6\" class=\"data row2 col6\" >0.4999</td>\n",
       "    </tr>\n",
       "    <tr>\n",
       "      <th id=\"T_51a63_level0_row3\" class=\"row_heading level0 row3\" >3</th>\n",
       "      <td id=\"T_51a63_row3_col0\" class=\"data row3 col0\" >0.7564</td>\n",
       "      <td id=\"T_51a63_row3_col1\" class=\"data row3 col1\" >0.8349</td>\n",
       "      <td id=\"T_51a63_row3_col2\" class=\"data row3 col2\" >0.7452</td>\n",
       "      <td id=\"T_51a63_row3_col3\" class=\"data row3 col3\" >0.7574</td>\n",
       "      <td id=\"T_51a63_row3_col4\" class=\"data row3 col4\" >0.7512</td>\n",
       "      <td id=\"T_51a63_row3_col5\" class=\"data row3 col5\" >0.5126</td>\n",
       "      <td id=\"T_51a63_row3_col6\" class=\"data row3 col6\" >0.5126</td>\n",
       "    </tr>\n",
       "    <tr>\n",
       "      <th id=\"T_51a63_level0_row4\" class=\"row_heading level0 row4\" >4</th>\n",
       "      <td id=\"T_51a63_row4_col0\" class=\"data row4 col0\" >0.7528</td>\n",
       "      <td id=\"T_51a63_row4_col1\" class=\"data row4 col1\" >0.8250</td>\n",
       "      <td id=\"T_51a63_row4_col2\" class=\"data row4 col2\" >0.7677</td>\n",
       "      <td id=\"T_51a63_row4_col3\" class=\"data row4 col3\" >0.7414</td>\n",
       "      <td id=\"T_51a63_row4_col4\" class=\"data row4 col4\" >0.7544</td>\n",
       "      <td id=\"T_51a63_row4_col5\" class=\"data row4 col5\" >0.5057</td>\n",
       "      <td id=\"T_51a63_row4_col6\" class=\"data row4 col6\" >0.5060</td>\n",
       "    </tr>\n",
       "    <tr>\n",
       "      <th id=\"T_51a63_level0_row5\" class=\"row_heading level0 row5\" >Mean</th>\n",
       "      <td id=\"T_51a63_row5_col0\" class=\"data row5 col0\" >0.7531</td>\n",
       "      <td id=\"T_51a63_row5_col1\" class=\"data row5 col1\" >0.8269</td>\n",
       "      <td id=\"T_51a63_row5_col2\" class=\"data row5 col2\" >0.7523</td>\n",
       "      <td id=\"T_51a63_row5_col3\" class=\"data row5 col3\" >0.7493</td>\n",
       "      <td id=\"T_51a63_row5_col4\" class=\"data row5 col4\" >0.7506</td>\n",
       "      <td id=\"T_51a63_row5_col5\" class=\"data row5 col5\" >0.5062</td>\n",
       "      <td id=\"T_51a63_row5_col6\" class=\"data row5 col6\" >0.5063</td>\n",
       "    </tr>\n",
       "    <tr>\n",
       "      <th id=\"T_51a63_level0_row6\" class=\"row_heading level0 row6\" >Std</th>\n",
       "      <td id=\"T_51a63_row6_col0\" class=\"data row6 col0\" >0.0113</td>\n",
       "      <td id=\"T_51a63_row6_col1\" class=\"data row6 col1\" >0.0140</td>\n",
       "      <td id=\"T_51a63_row6_col2\" class=\"data row6 col2\" >0.0080</td>\n",
       "      <td id=\"T_51a63_row6_col3\" class=\"data row6 col3\" >0.0172</td>\n",
       "      <td id=\"T_51a63_row6_col4\" class=\"data row6 col4\" >0.0090</td>\n",
       "      <td id=\"T_51a63_row6_col5\" class=\"data row6 col5\" >0.0224</td>\n",
       "      <td id=\"T_51a63_row6_col6\" class=\"data row6 col6\" >0.0224</td>\n",
       "    </tr>\n",
       "  </tbody>\n",
       "</table>\n"
      ],
      "text/plain": [
       "<pandas.io.formats.style.Styler at 0x1364f5d30>"
      ]
     },
     "metadata": {},
     "output_type": "display_data"
    }
   ],
   "source": [
    "# this function tunes the hyperparameters of the model\n",
    "# the output of this function is a scoring grid with cross-validated scores by fold\n",
    "tuned_model = tune_model(m,\n",
    "                      n_iter = 20,\n",
    "                      optimize='recall', #the best model is selected based on the recall metric\n",
    "                      search_library='scikit-learn',\n",
    "                      custom_grid = params,\n",
    "                      #return_tuner=True,\n",
    "                      choose_better=True)\n",
    "# if hyperparameter tuning doesn't improve the performance, choose_better will return the input model"
   ]
  },
  {
   "cell_type": "code",
   "execution_count": 53,
   "id": "a0fd6cb7",
   "metadata": {},
   "outputs": [
    {
     "data": {
      "text/plain": [
       "GradientBoostingClassifier(ccp_alpha=0.0, criterion='friedman_mse', init=None,\n",
       "                           learning_rate=0.1, loss='deviance', max_depth=3,\n",
       "                           max_features=26, max_leaf_nodes=None,\n",
       "                           min_impurity_decrease=0.0, min_impurity_split=None,\n",
       "                           min_samples_leaf=3, min_samples_split=2,\n",
       "                           min_weight_fraction_leaf=0.0, n_estimators=100,\n",
       "                           n_iter_no_change=None, presort='deprecated',\n",
       "                           random_state=123, subsample=1.0, tol=0.0001,\n",
       "                           validation_fraction=0.1, verbose=0,\n",
       "                           warm_start=False)"
      ]
     },
     "execution_count": 53,
     "metadata": {},
     "output_type": "execute_result"
    }
   ],
   "source": [
    "tuned_model"
   ]
  },
  {
   "cell_type": "code",
   "execution_count": 54,
   "id": "f1e05e3f",
   "metadata": {},
   "outputs": [
    {
     "data": {
      "image/png": "[encoded data removed]",
      "text/plain": [
       "<Figure size 800x550 with 1 Axes>"
      ]
     },
     "metadata": {},
     "output_type": "display_data"
    }
   ],
   "source": [
    "plot_model(tuned_model, plot = 'confusion_matrix', plot_kwargs = {'percent' : True})"
   ]
  },
  {
   "cell_type": "code",
   "execution_count": 56,
   "id": "c16b7189",
   "metadata": {},
   "outputs": [
    {
     "data": {
      "image/png": "[encoded data removed]",
      "text/plain": [
       "<Figure size 800x550 with 2 Axes>"
      ]
     },
     "metadata": {},
     "output_type": "display_data"
    }
   ],
   "source": [
    "plot_model(tuned_model, plot = 'class_report')"
   ]
  },
  {
   "cell_type": "code",
   "execution_count": 55,
   "id": "2e601b70",
   "metadata": {},
   "outputs": [
    {
     "data": {
      "image/png": "[encoded data removed]",
      "text/plain": [
       "<Figure size 800x500 with 1 Axes>"
      ]
     },
     "metadata": {},
     "output_type": "display_data"
    }
   ],
   "source": [
    "plot_model(tuned_model, plot = 'feature')"
   ]
  },
  {
   "cell_type": "code",
   "execution_count": 57,
   "id": "41e23ba5",
   "metadata": {},
   "outputs": [
    {
     "data": {
      "image/png": "[encoded data removed]",
      "text/plain": [
       "<Figure size 800x550 with 1 Axes>"
      ]
     },
     "metadata": {},
     "output_type": "display_data"
    }
   ],
   "source": [
    "plot_model(tuned_model, plot = 'error')"
   ]
  },
  {
   "cell_type": "code",
   "execution_count": 58,
   "id": "4e04ce40",
   "metadata": {},
   "outputs": [
    {
     "data": {
      "image/png": "[encoded data removed]",
      "text/plain": [
       "<Figure size 800x550 with 1 Axes>"
      ]
     },
     "metadata": {},
     "output_type": "display_data"
    }
   ],
   "source": [
    "plot_model(tuned_model, plot = 'learning')"
   ]
  },
  {
   "cell_type": "code",
   "execution_count": 59,
   "id": "6eea18b5",
   "metadata": {},
   "outputs": [
    {
     "data": {
      "image/png": "[encoded data removed]",
      "text/plain": [
       "<Figure size 800x550 with 1 Axes>"
      ]
     },
     "metadata": {},
     "output_type": "display_data"
    }
   ],
   "source": [
    "plot_model(tuned_model, plot = 'confusion_matrix')"
   ]
  },
  {
   "cell_type": "code",
   "execution_count": 60,
   "id": "f3f07cee",
   "metadata": {},
   "outputs": [
    {
     "name": "stdout",
     "output_type": "stream",
     "text": [
      "Transformation Pipeline and Model Successfully Saved\n"
     ]
    },
    {
     "data": {
      "text/plain": [
       "(Pipeline(memory=None,\n",
       "          steps=[('dtypes',\n",
       "                  DataTypes_Auto_infer(categorical_features=['marketing_use_case',\n",
       "                                                             'marketing_intent',\n",
       "                                                             'industry_claim',\n",
       "                                                             'industry_other',\n",
       "                                                             'industry_reno',\n",
       "                                                             'industry_surveys',\n",
       "                                                             'marketing_team',\n",
       "                                                             'first_device_type',\n",
       "                                                             'first_device_lidar',\n",
       "                                                             'agg_first_room_create_method'],\n",
       "                                       display_types=False,\n",
       "                                       features_todrop=['user_id'],\n",
       "                                       id_columns=[],\n",
       "                                       ml_useca...\n",
       "                                             learning_rate=0.1, loss='deviance',\n",
       "                                             max_depth=3, max_features=26,\n",
       "                                             max_leaf_nodes=None,\n",
       "                                             min_impurity_decrease=0.0,\n",
       "                                             min_impurity_split=None,\n",
       "                                             min_samples_leaf=3,\n",
       "                                             min_samples_split=2,\n",
       "                                             min_weight_fraction_leaf=0.0,\n",
       "                                             n_estimators=100,\n",
       "                                             n_iter_no_change=None,\n",
       "                                             presort='deprecated',\n",
       "                                             random_state=123, subsample=1.0,\n",
       "                                             tol=0.0001, validation_fraction=0.1,\n",
       "                                             verbose=0, warm_start=False)]],\n",
       "          verbose=False),\n",
       " 'model-v2.pkl')"
      ]
     },
     "execution_count": 60,
     "metadata": {},
     "output_type": "execute_result"
    }
   ],
   "source": [
    "save_model(tuned_model, 'model-v2') "
   ]
  },
  {
   "cell_type": "code",
   "execution_count": 61,
   "id": "fbea265c",
   "metadata": {},
   "outputs": [
    {
     "name": "stdout",
     "output_type": "stream",
     "text": [
      "Transformation Pipeline and Model Successfully Loaded\n"
     ]
    },
    {
     "data": {
      "text/plain": [
       "Pipeline(memory=None,\n",
       "         steps=[('dtypes',\n",
       "                 DataTypes_Auto_infer(categorical_features=['marketing_use_case',\n",
       "                                                            'marketing_intent',\n",
       "                                                            'industry_claim',\n",
       "                                                            'industry_other',\n",
       "                                                            'industry_reno',\n",
       "                                                            'industry_surveys',\n",
       "                                                            'marketing_team',\n",
       "                                                            'first_device_type',\n",
       "                                                            'first_device_lidar',\n",
       "                                                            'agg_first_room_create_method'],\n",
       "                                      display_types=False,\n",
       "                                      features_todrop=['user_id'],\n",
       "                                      id_columns=[],\n",
       "                                      ml_useca...\n",
       "                                            learning_rate=0.1, loss='deviance',\n",
       "                                            max_depth=3, max_features=26,\n",
       "                                            max_leaf_nodes=None,\n",
       "                                            min_impurity_decrease=0.0,\n",
       "                                            min_impurity_split=None,\n",
       "                                            min_samples_leaf=3,\n",
       "                                            min_samples_split=2,\n",
       "                                            min_weight_fraction_leaf=0.0,\n",
       "                                            n_estimators=100,\n",
       "                                            n_iter_no_change=None,\n",
       "                                            presort='deprecated',\n",
       "                                            random_state=123, subsample=1.0,\n",
       "                                            tol=0.0001, validation_fraction=0.1,\n",
       "                                            verbose=0, warm_start=False)]],\n",
       "         verbose=False)"
      ]
     },
     "execution_count": 61,
     "metadata": {},
     "output_type": "execute_result"
    }
   ],
   "source": [
    "from pycaret.classification import load_model \n",
    "\n",
    "saved = load_model('model-v2') \n",
    "\n",
    "saved"
   ]
  },
  {
   "cell_type": "code",
   "execution_count": 62,
   "id": "45b8d58a",
   "metadata": {},
   "outputs": [
    {
     "data": {
      "text/html": [
       "<style type=\"text/css\">\n",
       "</style>\n",
       "<table id=\"T_4b12d\">\n",
       "  <thead>\n",
       "    <tr>\n",
       "      <th class=\"blank level0\" >&nbsp;</th>\n",
       "      <th id=\"T_4b12d_level0_col0\" class=\"col_heading level0 col0\" >Model</th>\n",
       "      <th id=\"T_4b12d_level0_col1\" class=\"col_heading level0 col1\" >Accuracy</th>\n",
       "      <th id=\"T_4b12d_level0_col2\" class=\"col_heading level0 col2\" >AUC</th>\n",
       "      <th id=\"T_4b12d_level0_col3\" class=\"col_heading level0 col3\" >Recall</th>\n",
       "      <th id=\"T_4b12d_level0_col4\" class=\"col_heading level0 col4\" >Prec.</th>\n",
       "      <th id=\"T_4b12d_level0_col5\" class=\"col_heading level0 col5\" >F1</th>\n",
       "      <th id=\"T_4b12d_level0_col6\" class=\"col_heading level0 col6\" >Kappa</th>\n",
       "      <th id=\"T_4b12d_level0_col7\" class=\"col_heading level0 col7\" >MCC</th>\n",
       "    </tr>\n",
       "  </thead>\n",
       "  <tbody>\n",
       "    <tr>\n",
       "      <th id=\"T_4b12d_level0_row0\" class=\"row_heading level0 row0\" >0</th>\n",
       "      <td id=\"T_4b12d_row0_col0\" class=\"data row0 col0\" >Gradient Boosting Classifier</td>\n",
       "      <td id=\"T_4b12d_row0_col1\" class=\"data row0 col1\" >0.7379</td>\n",
       "      <td id=\"T_4b12d_row0_col2\" class=\"data row0 col2\" >0.8147</td>\n",
       "      <td id=\"T_4b12d_row0_col3\" class=\"data row0 col3\" >0.7183</td>\n",
       "      <td id=\"T_4b12d_row0_col4\" class=\"data row0 col4\" >0.7536</td>\n",
       "      <td id=\"T_4b12d_row0_col5\" class=\"data row0 col5\" >0.7355</td>\n",
       "      <td id=\"T_4b12d_row0_col6\" class=\"data row0 col6\" >0.4760</td>\n",
       "      <td id=\"T_4b12d_row0_col7\" class=\"data row0 col7\" >0.4765</td>\n",
       "    </tr>\n",
       "  </tbody>\n",
       "</table>\n"
      ],
      "text/plain": [
       "<pandas.io.formats.style.Styler at 0x12dd844f0>"
      ]
     },
     "metadata": {},
     "output_type": "display_data"
    }
   ],
   "source": [
    "df_tested = predict_model(saved, data = test)"
   ]
  },
  {
   "cell_type": "code",
   "execution_count": null,
   "id": "089a6336",
   "metadata": {},
   "outputs": [],
   "source": []
  }
 ],
 "metadata": {
  "kernelspec": {
   "display_name": "Python 3 (ipykernel)",
   "language": "python",
   "name": "python3"
  },
  "language_info": {
   "codemirror_mode": {
    "name": "ipython",
    "version": 3
   },
   "file_extension": ".py",
   "mimetype": "text/x-python",
   "name": "python",
   "nbconvert_exporter": "python",
   "pygments_lexer": "ipython3",
   "version": "3.9.6"
  }
 },
 "nbformat": 4,
 "nbformat_minor": 5
}
